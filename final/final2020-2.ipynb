{
 "cells": [
  {
   "cell_type": "markdown",
   "metadata": {},
   "source": [
    "# SWCON104-01 Web/Python Programming 2020-2 Final Exam\n"
   ]
  },
  {
   "cell_type": "markdown",
   "metadata": {},
   "source": [
    "- 답안지 작성시 반드시 파일이름을 '학번_이름.ipynb'으로 변경하여 KLAS에 제출하시오. 답안파일만 제출하시오.\n",
    "\n",
    "- 셀을 실행하여 syntax error가 발생하거나 실행되지 않으면 해당 셀의 점수는 0점 입니다.\n",
    "\n",
    "- 문제에 명시되어있는 클래스명, 함수명, 변수명은 대소문자까지 완전히 동일하게 지키세요. 틀리면 감점합니다.\n",
    "\n",
    "- 출력예시의 규칙을 그대로 지키세요. 빈칸, 줄바꿈, 대소문자 등을 완벽히 지키세요. 조금이라도 틀리면 틀린 갯수대로 감점합니다.\n",
    "\n"
   ]
  },
  {
   "cell_type": "markdown",
   "metadata": {},
   "source": [
    "## [문제1] (25점)"
   ]
  },
  {
   "cell_type": "code",
   "execution_count": 21,
   "metadata": {},
   "outputs": [],
   "source": [
    "# class Food 을 구현하시오. [5점]\n",
    "class Food:\n",
    "    cal = 0\n",
    "    price = 0\n",
    "    def __str__(self):\n",
    "        msg = \"{} cal {} won\".format(self.cal,self.price)\n",
    "        return msg"
   ]
  },
  {
   "cell_type": "code",
   "execution_count": 38,
   "metadata": {},
   "outputs": [],
   "source": [
    "# class Burger 을 구현하시오. [10점]\n",
    "class Burger(Food):\n",
    "    def __init__(self,patty,cheese=0):\n",
    "        self.patty=patty\n",
    "        self.cheese=cheese\n",
    "        if self.patty == \"beef\":\n",
    "            self.cal = 200\n",
    "        elif self.patty == \"chichken\":\n",
    "            self.cal = 300\n",
    "        self.cal += self.cheese*100\n",
    "        \n",
    "    def computePrice(self,discount):\n",
    "        money = 0\n",
    "        if self.patty == \"beef\":\n",
    "            money = 3000\n",
    "        elif self.patty == \"chichken\":\n",
    "            money = 2000\n",
    "        self.price = round((money + self.cheese * 300)*((100-discount)/100))\n",
    "        \n",
    "        \n",
    "    def __str__(self):\n",
    "        msg = \"{} burger\".format(self.patty)+super().__str__()\n",
    "        return msg"
   ]
  },
  {
   "cell_type": "code",
   "execution_count": 64,
   "metadata": {},
   "outputs": [],
   "source": [
    "# class Coffee을 구현하시오. [10점]\n",
    "\n",
    "class Coffee(Food):\n",
    "    def __init__(self,size,shot,milk=\"none\"):\n",
    "        self.size = size\n",
    "        self.shot = shot\n",
    "        self.milk = milk\n",
    "        \n",
    "        self.liter = 0\n",
    "        self.name =\"\"\n",
    "        \n",
    "        if self.size == \"short\":\n",
    "            self.liter = 200\n",
    "        elif self.size == \"tall\":\n",
    "            self.liter = 300\n",
    "        elif self.size == \"grande\":\n",
    "            self.liter = 400\n",
    "            \n",
    "        self.water = self.liter - (self.shot)*30 #물이거나 우유이거나\n",
    "        \n",
    "        if self.milk == \"regular\":\n",
    "            self.water *= 2\n",
    "        elif self.milk == \"lowfat\":\n",
    "            self.water *= 1\n",
    "        elif self.milk == \"none\":\n",
    "            self.water *= 0\n",
    "        \n",
    "        self.cal = self.water + self.shot * 3\n",
    "        \n",
    "    def computePrice(self,discount):\n",
    "     \n",
    "        if self.milk ==\"none\":\n",
    "            self.name = \"americano\"\n",
    "            if self.size == \"short\":\n",
    "                if self.shot > 1:\n",
    "                    self.price = 2500 + (self.shot -1)*500\n",
    "                else:\n",
    "                    self.price = 2500\n",
    "            elif self.size == \"tall\":\n",
    "                if self.shot > 2:\n",
    "                    self.price = 3000 + (self.shot -2)*500\n",
    "                else:\n",
    "                    self.price = 3000\n",
    "            else:\n",
    "                if self.shot > 3:\n",
    "                    self.price = 3500 + (self.shot -3)*500\n",
    "                else:\n",
    "                    self.price = 3500\n",
    "                \n",
    "        else:\n",
    "            self.name = \"cafelatte\"\n",
    "            if self.size == \"short\":\n",
    "                if self.shot > 1:\n",
    "                    self.price = 3000 + (self.shot -1)*500\n",
    "                else:\n",
    "                    self.price = 3000\n",
    "                \n",
    "            elif self.size == \"tall\":\n",
    "                if self.shot > 2:\n",
    "                    self.price = 3500 + (self.shot -2)*500\n",
    "                else:\n",
    "                    self.price = 3500\n",
    "                \n",
    "            else:\n",
    "                if self.shot > 3:\n",
    "                    self.price = 4000 + (self.shot -3)*500\n",
    "                else:\n",
    "                    self.price = 4000\n",
    "                \n",
    "        self.price = round(self.price*((100-discount)/100))\n",
    "        \n",
    "    def __str__(self):\n",
    "        msg = \"{0} {1} \".format(self.name,self.size)+super().__str__()\n",
    "        return msg"
   ]
  },
  {
   "cell_type": "code",
   "execution_count": 65,
   "metadata": {},
   "outputs": [
    {
     "name": "stdout",
     "output_type": "stream",
     "text": [
      "beef burger200 cal 3000 won\n",
      "chicken burger100 cal 270 won\n",
      "beef burger400 cal 2880 won\n",
      "americano short 6 cal 3000 won\n",
      "cafelatte tall 486 cal 3150 won\n",
      "cafelatte grande 292 cal 3600 won\n"
     ]
    }
   ],
   "source": [
    "# 이 셀을 실행하면 실행예시와 동일한 출력이 나와야 한다. \n",
    "b1 = Burger('beef')\n",
    "b2 = Burger('chicken',1)\n",
    "b3 = Burger('beef',2)\n",
    "b1.computePrice(0)\n",
    "b2.computePrice(10)\n",
    "b3.computePrice(20)\n",
    "print(b1)\n",
    "print(b2)\n",
    "print(b3)\n",
    "\n",
    "c1 = Coffee('short',2,'none')\n",
    "c2 = Coffee('tall',2,'regular')\n",
    "c3 = Coffee('grande',4,'lowfat')\n",
    "c1.computePrice(0)\n",
    "c2.computePrice(10)\n",
    "c3.computePrice(20)\n",
    "print(c1)\n",
    "print(c2)\n",
    "print(c3)\n"
   ]
  },
  {
   "attachments": {
    "ex1_final2020-2.png": {
     "image/png": "[encoded data removed]"
    }
   },
   "cell_type": "markdown",
   "metadata": {},
   "source": [
    "#### 아래는 문제1 실행예시 스크린샷입니다. \n",
    "![ex1_final2020-2.png](attachment:ex1_final2020-2.png)"
   ]
  },
  {
   "cell_type": "markdown",
   "metadata": {},
   "source": [
    "## [문제2] (15점)"
   ]
  },
  {
   "cell_type": "code",
   "execution_count": 77,
   "metadata": {},
   "outputs": [],
   "source": [
    "# makeDictionary 함수를 구현하시오. [5점]\n",
    "# 함수헤더를 변경하지 마시오.\n",
    "def makeDictionary(filename):\n",
    "    file = open(filename,'r')\n",
    "    file.readline()\n",
    "    dic ={}\n",
    "    for line in file:\n",
    "        (key,val1,val2,val3)=line.split()\n",
    "        dic[key]=val3\n",
    "    return dic"
   ]
  },
  {
   "cell_type": "code",
   "execution_count": 84,
   "metadata": {},
   "outputs": [],
   "source": [
    "# printByName 함수를 구현하시오. [5점]\n",
    "# 함수헤더를  변경하지 마시오.\n",
    "def printByName(finaldict):\n",
    "    sorting = sorted(finaldict.items())\n",
    "    for i in range(len(sorting)):\n",
    "        print(sorting[i][0],sorting[i][1])"
   ]
  },
  {
   "cell_type": "code",
   "execution_count": 113,
   "metadata": {},
   "outputs": [],
   "source": [
    "# findMaximum 함수를 구현하시오. [5점]\n",
    "# 함수헤더를 변경하지 마시오.\n",
    "def findMaximum(filename):\n",
    "    file = open(filename,'r')\n",
    "    file.readline()\n",
    "    dic = {}\n",
    "    sum = 0\n",
    "    for line in file:\n",
    "        \n",
    "        (key,val1,val2,val3)=line.split()\n",
    "        sum = int(val1)+int(val2)+int(val3)\n",
    "        dic[key]=sum\n",
    "        \n",
    "    sorting =sorted(dic.items(), key=lambda x: x[1],reverse=True)\n",
    "    return tuple(sorting[0])"
   ]
  },
  {
   "cell_type": "code",
   "execution_count": 114,
   "metadata": {},
   "outputs": [
    {
     "name": "stdout",
     "output_type": "stream",
     "text": [
      "Bryan 34\n",
      "Chris 37\n",
      "Emma 35\n",
      "Louis 31\n",
      "Olivia 38\n",
      "Sophia 29\n",
      "('Chris', 83)\n"
     ]
    }
   ],
   "source": [
    "# 이 셀을 실행하면 실행예시와 동일한 출력이 나와야 한다. \n",
    "filename = 'score.txt'\n",
    "finaldict = makeDictionary(filename)\n",
    "\n",
    "printByName(finaldict)\n",
    "print(findMaximum(filename))"
   ]
  },
  {
   "attachments": {
    "ex2_final2020-2.png": {
     "image/png": "[encoded data removed]"
    }
   },
   "cell_type": "markdown",
   "metadata": {},
   "source": [
    "#### 아래는 문제2 실행예시 스크린샷입니다. \n",
    "![ex2_final2020-2.png](attachment:ex2_final2020-2.png)"
   ]
  }
 ],
 "metadata": {
  "kernelspec": {
   "display_name": "Python 3 (ipykernel)",
   "language": "python",
   "name": "python3"
  },
  "language_info": {
   "codemirror_mode": {
    "name": "ipython",
    "version": 3
   },
   "file_extension": ".py",
   "mimetype": "text/x-python",
   "name": "python",
   "nbconvert_exporter": "python",
   "pygments_lexer": "ipython3",
   "version": "3.9.7"
  }
 },
 "nbformat": 4,
 "nbformat_minor": 4
}
