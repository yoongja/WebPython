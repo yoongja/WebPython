{
 "cells": [
  {
   "cell_type": "markdown",
   "metadata": {},
   "source": [
    "# 수업 내용 확인"
   ]
  },
  {
   "cell_type": "markdown",
   "metadata": {},
   "source": [
    "소프트웨어는 수학 계산을 주목적으로 처음에 만들어 졌지만, 지금은 다양한 분야에서 활용이 됩니다.<br>\n",
    "기본적으로 사람이 접할 수 있는 모든 정보를 컴퓨터에 저장할 때, String은 '정수/실수와 같은 숫자 외'에 글자들입니다.<br>\n",
    "본 수업에서는 글자 혹은 글자들을 Python 언어에서 어떻게 다루는지에 대해서 배웁니다."
   ]
  },
  {
   "cell_type": "markdown",
   "metadata": {},
   "source": [
    "## 문자열 이해하기"
   ]
  },
  {
   "cell_type": "markdown",
   "metadata": {},
   "source": [
    "문자열(String)은 앞서 공부한 정수 혹은 실수와 다르게 글자(들)을 저장하는 변수 타입입니다.<br>\n",
    "실제 변수를 공부할 때 언급되었던 ``type()`` 함수를 수행하면, ``str`` 타입으로 결과값을 돌려주는 변수 타입입니다.<br>\n",
    "문자열에는 알파벳, 한글을 포함한 글자(들)과 숫자 그리고 다양한 기호들이 포함될 수 있습니다.<br>\n",
    "문자열을 일반적으로 ``'`` ``'`` 혹은 ``\"`` ``\"``의 인용 구문 기호로 앞뒤를 감싸는 것으로 표현합니다.<br>\n",
    "예를 들면 'Aristotle' 혹은 \"Issac Newton\"과 같은 방식입니다.<br>\n",
    "\n",
    "아래의 입력창에 다음의 작업들을 차례로 프로그래밍하면서, 결과 값을 ``print()`` 문법으로 출력해 보세요.<br>\n",
    "\n",
    "- 변수 ``nameVar1``을 만들고, 'Issac'를 대입한 후, ``print()`` 문법으로 출력해 보세요. <br>\n",
    "- 추가로 ``nameVar1``을 만들고, 'Newton'를 대입한 후, ``print()`` 문법으로 출력해 보세요."
   ]
  },
  {
   "cell_type": "code",
   "execution_count": 4,
   "metadata": {},
   "outputs": [
    {
     "name": "stdout",
     "output_type": "stream",
     "text": [
      "Issac\n",
      "Newton\n"
     ]
    }
   ],
   "source": [
    "nameVar1 = 'Issac'\n",
    "print(nameVar1)\n",
    "nameVar2 = 'Newton'\n",
    "print(nameVar2)"
   ]
  },
  {
   "cell_type": "markdown",
   "metadata": {},
   "source": [
    "## 문자열 기본 연산자 및 내장 함수 이해하기"
   ]
  },
  {
   "cell_type": "markdown",
   "metadata": {},
   "source": [
    "정수/실수에 대해서 배울때에 다양한 Python 기본 연산자가 있었습니다.<br>\n",
    "문자열의 경우에도 Python은 이미 다양한 기능의 기본 연산자와 내장 함수를 지원합니다.<br>\n",
    "대표적인 사례는 다음과 같습니다.<br>\n",
    "\n",
    "``len()``: 입력 파라메타로 전달받은 문자열의 길이를 결과값으로 돌려줌 (예제: len( ``문자열`` ))<br>\n",
    "``+``: 입력 파라메타로 전달받은 두개의 문자열을 하나의 문자열로 연결하여 결과값으로 돌려줌 (예제: ``문자열1`` + ``문자열2``)<br>\n",
    "``*``: 입력 파라메타로 전달받은 문자열과 숫자를 기반으로, 문자열을 숫자만큼 반복한 형태의 문자열을 결과값으로 돌려줌 (예제: ``문자열1`` = ``문자열2``*10)<br>\n",
    "``int()``: 입력 파라메타로 전달받은 문자열이 숫자로만 이루어진 경우, 정수 타입으로 변환된 결과값으로 돌려줌 (예제: int( ``문자열`` ))<br>\n",
    "``float()``: 입력 파라메타로 전달받은 문자열이 숫자로만 이루어진 경우, 실수 타입으로 변환된 결과값으로 돌려줌 (예제: float( ``문자열`` ))<br>\n",
    "\n",
    "아래의 입력창에 다음의 작업들을 차례로 프로그래밍하면서, 결과값은 ``print()`` 문법으로 출력해 보세요.<br>\n",
    "\n",
    "- 앞서 정의한 ``nameVar1`` 변수의 크기를 출력해 보세요.<br>\n",
    "- ``nameVar3`` 변수를 새롭게 정의하고, 여기에 ``nameVar1``와 ``nameVar2``의 이름을 ``+`` 연산자로 더한 결과값을 저장해 보세요.<br>\n",
    "- ``nameVar4`` 변수를 새롭게 정의하고, 여기에 ``123``의 문자열을 저장한후, ``int()`` 함수로 정수 결과값으로 변환해 보세요.<br>\n",
    "- ``nameVar5`` 변수를 새롭게 정의하고, 여기에 ``123.0``의 문자열을 저장한후, ``float()`` 함수로 실수 결과값으로 변환해 보세요.<br>"
   ]
  },
  {
   "cell_type": "code",
   "execution_count": 5,
   "metadata": {},
   "outputs": [],
   "source": [
    "len(nameVar1)\n",
    "nameVar3=nameVar1+nameVar2\n",
    "nameVar4=int('123')\n",
    "nameVar5=float('123.0')"
   ]
  },
  {
   "cell_type": "markdown",
   "metadata": {},
   "source": [
    "## 중첩된 인용구문을 사용한 문자열 처리하기"
   ]
  },
  {
   "cell_type": "markdown",
   "metadata": {},
   "source": [
    "프로그래밍을 하다보면, 문자열을 의미하는 ``'`` ``'`` 혹은 ``\"`` ``\"``의 문자열 내부에서, 다시 문자열을 포함해야 하는 경우가 발생합니다.<br>\n",
    "단순하게 \"DrSungwon is 'Good'\" 혹은 'DrSungwon is \"Good\"'과 같은 경우가 있을수 있습니다.<br>\n",
    "위처럼 ``'`` ``'`` 문자열 안에 ``\"`` ``\"`` 문자열이 있거나, 혹은 반대의 경우는 전혀 문제가 없습니다.<br>\n",
    "\n",
    "이를 실제로 실험해 보기 위해서, 아래의 입력창에 다음의 코드를 입력하고 실행해 봅니다.<br>\n",
    "\n",
    "```python\n",
    "strTemp = \"DrSungwon is 'Good'\"\n",
    "print(strTemp)\n",
    "\n",
    "strTemp = 'DrSungwon is \"Good\"'\n",
    "print(strTemp)\n",
    "```"
   ]
  },
  {
   "cell_type": "code",
   "execution_count": 6,
   "metadata": {},
   "outputs": [
    {
     "name": "stdout",
     "output_type": "stream",
     "text": [
      "DrSungwon is 'Good'\n",
      "DrSungwon is \"Good\"\n"
     ]
    }
   ],
   "source": [
    "strTemp = \"DrSungwon is 'Good'\"\n",
    "print(strTemp)\n",
    "\n",
    "strTemp = 'DrSungwon is \"Good\"'\n",
    "print(strTemp)\n"
   ]
  },
  {
   "cell_type": "markdown",
   "metadata": {},
   "source": [
    "## Escape Sequence 이해하기"
   ]
  },
  {
   "cell_type": "markdown",
   "metadata": {},
   "source": [
    "위의 예제처럼 Single 혹은 Double 인용구문 기호로 열고 닫힌 문자열 안에 마찬가지로 인용구문 기호로 열고 닫힌 문자열은 문제가 없지만,<br>\n",
    "만약 하나의 인용구문 기호가 문자열 안에 나타나는 경우는 문제가 발생할 수 있습니다.<br>\n",
    "즉, ``DrSungwon's dog is excellent``과 같이 문자열이 아닌 경우에 사용하는 ``'`` 기호의 활용입니다.<br>\n",
    "\n",
    "이 문장을 다음과 같이 실행하면 Python은 구문(syntax) 에러를 발생 시킵니다.<br>\n",
    "\n",
    "```python\n",
    "strTemp = 'DrSungwon's dog is excellent'\n",
    "print(strTemp)\n",
    "```\n",
    "\n",
    "아래의 입력창의 위의 구문을 입력하고 실행하여, 실제 에러가 발생하는 것을 확인해 봅니다."
   ]
  },
  {
   "cell_type": "code",
   "execution_count": 7,
   "metadata": {},
   "outputs": [
    {
     "ename": "SyntaxError",
     "evalue": "invalid syntax (<ipython-input-7-548d48c40f57>, line 1)",
     "output_type": "error",
     "traceback": [
      "\u001b[1;36m  File \u001b[1;32m\"<ipython-input-7-548d48c40f57>\"\u001b[1;36m, line \u001b[1;32m1\u001b[0m\n\u001b[1;33m    strTemp = 'DrSungwon's dog is excellent'\u001b[0m\n\u001b[1;37m                         ^\u001b[0m\n\u001b[1;31mSyntaxError\u001b[0m\u001b[1;31m:\u001b[0m invalid syntax\n"
     ]
    }
   ],
   "source": [
    "strTemp = 'DrSungwon's dog is excellent'\n",
    "print(strTemp)"
   ]
  },
  {
   "cell_type": "markdown",
   "metadata": {},
   "source": [
    "이런 경우는 어떻게 처리해야 할까? 다양한 방법이 가능한데,<br>\n",
    "첫번째 방법은, 전체 문장을 ``'`` ``'`` 인용구문이 아닌 ``\"`` ``\"`` 인용구문으로 감싸는 방법입니다.\n",
    "\n",
    "```python\n",
    "# Approach.1\n",
    "strTemp = \"DrSungwon's dog is excellent\"\n",
    "print(strTemp)\n",
    "print(len(strTemp))\n",
    "```\n",
    "\n",
    "두번째 방법은, Escape sequence를 통한 해결입니다.<br>\n",
    "키보드의 Backslash(``\\``) 기호를 escape 글자라고 칭하며, ``\\X`` 처럼 ``X``에 해당하는 위치에 글자 하나를 더해서 나타내는 표현을 escape sequence라고 합니다.<br>\n",
    "Escape sequence는 지금처럼 문자열 안에 특수 기호를 나타내거나, 혹은 눈으로 볼수 없는 특수기호를 프로그래밍 언어에서 표현하고자 하는 경우에 활용합니다.<br>\n",
    "이 방법을 사용하여 위의 에러를 제거하면 다음과 같은 형태로 프로그래밍 하면 됩니다.<br>\n",
    "\n",
    "```python\n",
    "# Approach.2\n",
    "strTemp = 'DrSungwon\\'s dog is excellent'\n",
    "print(strTemp)\n",
    "print(len(strTemp))\n",
    "```\n",
    "\n",
    "여기서 주의할 사항은 Escape sequence인 ``\\X``을 포함하는 문자열의 크기에 ``\\`` 기호는 카운트 되지 않습니다.<br>\n",
    "실제로 위의 두가지 방법에서 출력하는 ``strTemp`` 문자열의 길이는 동일합니다.<br>\n",
    "\n",
    "아래의 입력창의 위의 두가지 방법에 의하여 개선한 프로그래밍 코드를 입력하고 실행하여, 실제 에러가 제거된 것을 확인해 봅니다."
   ]
  },
  {
   "cell_type": "code",
   "execution_count": 8,
   "metadata": {},
   "outputs": [
    {
     "name": "stdout",
     "output_type": "stream",
     "text": [
      "DrSungwon's dog is excellent\n",
      "28\n",
      "DrSungwon's dog is excellent\n",
      "28\n"
     ]
    }
   ],
   "source": [
    "strTemp = \"DrSungwon's dog is excellent\"\n",
    "print(strTemp)\n",
    "print(len(strTemp))\n",
    "strTemp = 'DrSungwon\\'s dog is excellent'\n",
    "print(strTemp)\n",
    "print(len(strTemp))"
   ]
  },
  {
   "cell_type": "markdown",
   "metadata": {},
   "source": [
    "Escape sequence는 다양한 기호들에 대해서 존재합니다.<br>\n",
    "아래의 표는 대표적인 Python의 escape sequence들에 대해서 표로 표현한 것입니다.<br>\n",
    "\n",
    "| Escape Sequence | Description |\n",
    "| :-: | :-: |\n",
    "| \\' | Single quote |\n",
    "| \\\" | Double quote |\n",
    "| \\\\ | Backslash |\n",
    "| \\t | Tab |\n",
    "| \\n | Newline |\n",
    "| \\r | Carriage return | "
   ]
  },
  {
   "cell_type": "markdown",
   "metadata": {},
   "source": [
    "## ``print()`` 함수 자세히 이해하기"
   ]
  },
  {
   "cell_type": "markdown",
   "metadata": {},
   "source": [
    "``print()`` 함수에 대해서 자세히 알기 위하여, 아래의 입력창에 ``help(print)``를 입력하고 실행해 봅니다.<br>"
   ]
  },
  {
   "cell_type": "code",
   "execution_count": 9,
   "metadata": {},
   "outputs": [
    {
     "name": "stdout",
     "output_type": "stream",
     "text": [
      "Help on built-in function print in module builtins:\n",
      "\n",
      "print(...)\n",
      "    print(value, ..., sep=' ', end='\\n', file=sys.stdout, flush=False)\n",
      "    \n",
      "    Prints the values to a stream, or to sys.stdout by default.\n",
      "    Optional keyword arguments:\n",
      "    file:  a file-like object (stream); defaults to the current sys.stdout.\n",
      "    sep:   string inserted between values, default a space.\n",
      "    end:   string appended after the last value, default a newline.\n",
      "    flush: whether to forcibly flush the stream.\n",
      "\n"
     ]
    }
   ],
   "source": [
    "help(print)"
   ]
  },
  {
   "cell_type": "markdown",
   "metadata": {},
   "source": [
    "``print()`` 함수의 설명을 하나 하나 해석하면 다음과 같습니다.<br>\n",
    "\n",
    "``Help on built-in function print in module builtins``: ``print()`` 함수가 내장 함수로서 이에 대한 설명을 기술한다는 의미임<br>\n",
    "``print(...)``: 입력 파라메타를 여러개 줄수 있다는 의미이며, 입력 파라메타가 여러개인 경우는 ``,`` 기호로 구분하면 됨<br>\n",
    "``print(value, ..., sep=' ', end='\\n', file=sys.stdout, flush=False)``: 입력 파라메타(들)에 대한 자세한 설명으로, 아래와 같은 의미임<br>\n",
    "- ``value, ...``: 실제 출력을 하고자 하는 값 자체 혹은 값(들)을 가지고 있는 변수(들)를 의미하며, ``,`` 기호로 구분하여 여러개를 줄수 있음<br>\n",
    "- ``sep=' '``: 입력 파라메타로 전달받은 값(혹은 변수) 들 사이에 넣을 기호로서, 초기설정 값은 '공란 한칸(space)' 임<br> \n",
    "- ``end='\\n'``: 입력 파라메타들을 모두 출력한 마지막 부분에 삽입할 기호로서, 초기설정 값은 '한 줄 바꾸기(new line)' 임<br>\n",
    "- ``file``과 ``flush``는 이후 관련 내용의 수업에서 설명함<br>\n",
    "\n",
    "실제 동작을 확인해 보기 위하여, 다음의 코드를 아래의 입력창에 한줄씩 실행해 봅니다.\n",
    "\n",
    "```python\n",
    "print(1, 2, 3)\n",
    "print(1, '2', \"3\")\n",
    "print(1, '2', \"3\", sep=\" : \", end=\" {endl} \\\"\")\n",
    "```"
   ]
  },
  {
   "cell_type": "code",
   "execution_count": 10,
   "metadata": {},
   "outputs": [
    {
     "name": "stdout",
     "output_type": "stream",
     "text": [
      "1 2 3\n",
      "1 2 3\n",
      "1 : 2 : 3 {endl} \""
     ]
    }
   ],
   "source": [
    "print(1, 2, 3)\n",
    "print(1, '2', \"3\")\n",
    "print(1, '2', \"3\", sep=\" : \", end=\" {endl} \\\"\")"
   ]
  },
  {
   "cell_type": "markdown",
   "metadata": {},
   "source": [
    "## ``input()`` 함수 이해하기"
   ]
  },
  {
   "cell_type": "markdown",
   "metadata": {},
   "source": [
    "``input()`` 함수에 대해서 알기 위하여, 아래의 입력창에 ``help(input)``를 입력하고 실행해 봅니다.<br>"
   ]
  },
  {
   "cell_type": "code",
   "execution_count": 11,
   "metadata": {},
   "outputs": [
    {
     "name": "stdout",
     "output_type": "stream",
     "text": [
      "Help on method raw_input in module ipykernel.kernelbase:\n",
      "\n",
      "raw_input(prompt='') method of ipykernel.ipkernel.IPythonKernel instance\n",
      "    Forward raw_input to frontends\n",
      "    \n",
      "    Raises\n",
      "    ------\n",
      "    StdinNotImplentedError if active frontend doesn't support stdin.\n",
      "\n"
     ]
    }
   ],
   "source": [
    "help(input)"
   ]
  },
  {
   "cell_type": "markdown",
   "metadata": {},
   "source": [
    "``input()`` 함수는 Python 언어의 내장 함수로서, 사용자에게서 키보드를 통하여 값을 입력 받는 기능으로 사용합니다.<br>\n",
    "Python 언어 내부적으로는 ``raw_input()``로 불리기도 하며, 입력 파라메타를 줄수도 안줄수도 있습니다.<br>\n",
    "``input()`` 함수는 결과값(return하는 값)으로 문자열을 돌려주기에, 필요한 경우에는 타입의 형변환이 필요합니다.<br>\n",
    "일반적인 예제로서, 사용자로부터 두개의 정수 a와 b를 입력 받아, 이의 합을 출력하는 간단한 프로그램을 아래와 같이 작성할 수 있습니다.<br>\n",
    "\n",
    "```python\n",
    "print(\"Enter 'a' as integer number: \")\n",
    "a = int(input())\n",
    "\n",
    "print(\"Enter 'b' as integer number: \")\n",
    "b = int(input())\n",
    "\n",
    "print(\"a + b = \", a + b)\n",
    "```\n",
    "\n",
    "아래의 입력창의 위의 예제 코드를 실제로 입력하고 실행해서 결과를 확인해 봅니다.<br>"
   ]
  },
  {
   "cell_type": "code",
   "execution_count": 12,
   "metadata": {},
   "outputs": [
    {
     "name": "stdout",
     "output_type": "stream",
     "text": [
      "Enter 'a' as integer number: \n",
      "3\n",
      "Enter 'b' as integer number: \n",
      "4\n",
      "a + b =  7\n"
     ]
    }
   ],
   "source": [
    "print(\"Enter 'a' as integer number: \")\n",
    "a = int(input())\n",
    "\n",
    "print(\"Enter 'b' as integer number: \")\n",
    "b = int(input())\n",
    "\n",
    "print(\"a + b = \", a + b)"
   ]
  },
  {
   "cell_type": "markdown",
   "metadata": {},
   "source": [
    "앞서의 ``input()`` 함수에 대한 설명에서 입력 파라메타를 받을수 있는 것을 확인하였습니다.<br>\n",
    "이는 ``input()`` 함수의 입력 파라메타인 ``prompt`` 값을 지정해 주는 것으로서, 입력을 받을때 보여줄 글자 혹은 문자열을 ``input()`` 함수 실행시 지정하는 것입니다.<br>\n",
    "이를 이용하여, 앞에서 작성한 예제를 다음과 같이 수정할 수 있습니다.<br>\n",
    "\n",
    "```python\n",
    "a = int(input(prompt=\"Enter 'a' as integer number: \"))\n",
    "b = int(input(prompt=\"Enter 'b' as integer number: \"))\n",
    "\n",
    "print(\"a + b = \", a + b)\n",
    "```\n",
    "\n",
    "아래의 입력창의 위의 예제 코드를 실제로 입력하고 실행해서 결과를 확인해 봅니다.<br>"
   ]
  },
  {
   "cell_type": "code",
   "execution_count": 13,
   "metadata": {},
   "outputs": [
    {
     "name": "stdout",
     "output_type": "stream",
     "text": [
      "Enter 'a' as integer number: 3\n",
      "Enter 'b' as integer number: 4\n",
      "a + b =  7\n"
     ]
    }
   ],
   "source": [
    "a = int(input(prompt=\"Enter 'a' as integer number: \"))\n",
    "b = int(input(prompt=\"Enter 'b' as integer number: \"))\n",
    "\n",
    "print(\"a + b = \", a + b)"
   ]
  },
  {
   "cell_type": "markdown",
   "metadata": {},
   "source": [
    "## 문자열 슬라이싱 이해하기"
   ]
  },
  {
   "cell_type": "markdown",
   "metadata": {},
   "source": [
    "Python은 하나의 문자열 안에 있는 글자와 글자들을 처리하기 위하여 다양한 방법을 제공하며, 문자열 슬라이싱(Slicing String)은 이 중 하나입니다.<br>\n",
    "그러면 다음과 같이 변수 ``a``에 문자열 ``You only live once.``가 저장되어 있다고 가정해 봅시다.<br>\n",
    "\n",
    "```python\n",
    "a = \"You only live once.\"\n",
    "```\n",
    "\n",
    "변수 ``a``를 저장하는 컴퓨터 메모리 공간을 들여다 본다면, 다음의 그림처럼 순서대로 글자들이 저장되어 있는 것을 볼수 있습니다.<br>"
   ]
  },
  {
   "cell_type": "markdown",
   "metadata": {},
   "source": [
    "![문자열 슬라이싱의 이해1](Step_05_Slicing_Fig1.png)"
   ]
  },
  {
   "cell_type": "markdown",
   "metadata": {},
   "source": [
    "문자열 안의 글자 혹은 글자(들)을 접근하기 위해서 우리는 변수명인 ``a``의 뒤에 ``[`` ``]`` 기호를 사용합니다.<br>\n",
    "\n",
    "``a[n]``은 ``a`` 문자열의 첫번째 글자를 ``0``번째 글자라고 부를때, ``n`` 번째에 해당하는 글자를 의미합니다.<br>\n",
    "위의 예제에서 ``a[2]``는 글자 ``u``가 되는 것이지요.<br>\n",
    "\n",
    "``a[s:e]``의 의미는 ``a`` 문자열의 ``s`` 번째에 해당하는 글자를 시작으로 해서, ``e-1`` 번째에 해당하는 글자까지를 포함하는 새로운 문자열을 의미합니다.<br>\n",
    "위의 예제에서 ``a[9:12]``는 문자열 ``liv``가 되는 것이지요.<br>\n",
    "\n",
    "이 경우, ``s`` 혹은 ``e``만 숫자를 기술하는 것도 가능합니다.<br>\n",
    "\n",
    "``a[s:]``로 되면, ``s`` 번째에 해당하는 글자를 시작으로 해서, 문자열의 끝 글자까지의 글자들을 포함하는 새로운 문자열을 의미합니다.<br>\n",
    "위의 예제에서 ``a[10:]``는 문자열 ``ive once.``가 되는 것이지요.<br>\n",
    "\n",
    "``a[:e]``로 되면, ``e-1`` 번째에 해당하는 글자를 끝으로 해서, 문자열의 첫 글자부터의 글자들을 포함하는 새로운 문자열을 의미합니다.<br>\n",
    "위의 예제에서 ``a[:7]``는 문자열 ``You onl``이 되는 것이지요.<br>\n",
    "\n",
    "익숙하지 않은 표현 일수 있지만, 아래의 그림과 같이 문자열 ``a``의 마지막 글자의 위치를 ``-1``로 지정하여, 첨자를 주는 것도 가능합니다.<br>\n",
    "예를 들어, ``a[-1]``은 ``.``, ``a[12:-2]``는 ``e onc``와 같은 방식으로 처리하는 것입니다.<br>"
   ]
  },
  {
   "cell_type": "markdown",
   "metadata": {},
   "source": [
    "![문자열 슬라이싱의 이해2](Step_05_Slicing_Fig2.png)"
   ]
  },
  {
   "cell_type": "markdown",
   "metadata": {},
   "source": [
    "아래의 입력창에 직접 ``a`` 문자열을 생성하고, 문자열 슬라이싱 기법을 이용해서, 원하는 글자 혹은 글자들을 읽고 써보기 바랍니다.<br>\n",
    "그리고 새로운 문자열 ``b``를 문자열 \"I\"와 ``a`` 문자열의 \"only live once.\"를 활용하여 만들어 보기 바랍니다."
   ]
  },
  {
   "cell_type": "code",
   "execution_count": 17,
   "metadata": {},
   "outputs": [
    {
     "name": "stdout",
     "output_type": "stream",
     "text": [
      "Ionly live once\n"
     ]
    }
   ],
   "source": [
    "a = \"You only live once.\"\n",
    "a[2:4]\n",
    "b=\"I\"+a[4:18]\n",
    "print(b)"
   ]
  },
  {
   "cell_type": "markdown",
   "metadata": {},
   "source": [
    "## 문자열 주의사항"
   ]
  },
  {
   "cell_type": "markdown",
   "metadata": {},
   "source": [
    "문자열은 **한번 값을 대입하면 수정이 불가능**합니다..<br>\n",
    "따라서 특정 문자열의 값을 바꾸고자 하는 등의 목적이 있을때에는, 반드시 새로운 문자열을 만들어서 기존 문자열의 일부 값을 취하는 형태를 해야 합니다.<br>"
   ]
  },
  {
   "cell_type": "markdown",
   "metadata": {},
   "source": [
    "# 실습 (LAB)"
   ]
  },
  {
   "cell_type": "markdown",
   "metadata": {},
   "source": [
    "## 문자열 뒤집기 프로그램 개발하기"
   ]
  },
  {
   "cell_type": "markdown",
   "metadata": {},
   "source": [
    "사용자로부터 5글자의 문자열을 입력받아서 앞뒤를 뒤집는 프로그램을 만들어 봅니다.<br>\n",
    "즉, 사용자가 \"hello\"라는 5글자를 입력하면, \"olleh\"와 같이 앞뒤가 바뀐 문자열을 화면에 출력합니다.<br>\n",
    "이를 위해서, ``reverseString()`` 함수를 작성하며, 입력 파라메타는 사용자가 입력한 문자열을 받고, 결과값으로 앞뒤가 바뀐 문자열을 돌려줍니다.<br>\n",
    "\n",
    "아래 입력창에 ``reverseString()`` 함수와 함께 이 프로그램을 작성하고 실행해 보세요."
   ]
  },
  {
   "cell_type": "code",
   "execution_count": 23,
   "metadata": {},
   "outputs": [
    {
     "data": {
      "text/plain": [
       "'olleh'"
      ]
     },
     "execution_count": 23,
     "metadata": {},
     "output_type": "execute_result"
    }
   ],
   "source": [
    "def reverseString(s):\n",
    "       return(s[::-1]) \n",
    "reverseString(\"hello\")"
   ]
  },
  {
   "cell_type": "markdown",
   "metadata": {},
   "source": [
    "**\\[자가진단\\] 본인이 만든 LAB 프로그램이 제대로 동작하는지 확인합니다.**<br>\n",
    "아래의 입력창을 수정하지 않고, 그대로 실행해서, 아래와 동일하게 나온다면 제대로 작성한 것입니다.<br>\n",
    "만약 그렇지 않다면, ``reverseString()`` 함수를 수정하여 에러가 없도록 다시 작성합니다.<br>"
   ]
  },
  {
   "cell_type": "code",
   "execution_count": 24,
   "metadata": {},
   "outputs": [],
   "source": [
    "assert reverseString(\"hello\") == \"olleh\"\n",
    "assert reverseString(\"world\") == \"dlrow\"\n",
    "assert reverseString(\"12345\") == \"54321\""
   ]
  },
  {
   "cell_type": "markdown",
   "metadata": {},
   "source": [
    "## 나이 계산 프로그램 개발하기"
   ]
  },
  {
   "cell_type": "markdown",
   "metadata": {},
   "source": [
    "사용자로부터 이름과 나이를 입력 받아서, 10년후와 2098년에서의 나이를 출력하는 프로그램을 만들어 봅니다.<br>\n",
    "아래의 예시처럼 사용자 이름이 ``Jane``이고 현재 ``20``살인 경우에 결과처럼 출력하는 것입니다.<br>\n",
    "이를 위해서 ``calcAge()`` 함수를 만들고, 입력 파라메타로 1) 현재의 나이와 함께, 2) 현재년도, 그리고 3) 나이를 계산하고 싶은 미래년도를 전달합니다.<br>\n",
    "``calcAge()`` 함수는 반드시 앞서의 입력 파라메타를 순서대로 받도록 합니다.<br>\n",
    "``calcAge(``) 함수는 미래년도와 현재년도의 차를 토대로, 미래년도에서의 나이를 계산하여 결과값으로 돌려줍니다.<br>\n",
    "\n",
    "``Hello, what’s your name? Jane``<br>\n",
    "``How old are you? 20``<br>\n",
    "``Years of this year (ex: 2019) ? 2019``<br>\n",
    "\n",
    "``Jane is 20 years old.``<br>\n",
    "``Jane becomes 30 years old after 10 years.``<br>\n",
    "``Jane becomes 98 years old in 2098.``<br>\n",
    "\n",
    "아래 입력창에 ``calcAge()`` 함수와 함께 이 프로그램을 작성하고 실행해 보세요."
   ]
  },
  {
   "cell_type": "code",
   "execution_count": 32,
   "metadata": {},
   "outputs": [
    {
     "name": "stdout",
     "output_type": "stream",
     "text": [
      "Hello, what’s your name? JAne\n",
      "How old are you? 20\n",
      "Years of this year (ex: 2019) ? 2019\n",
      "JAne is 20 years old.\n",
      "JAne becoms 30 years old after 10 years.\n",
      "JAne becoms 99 years old in 2098.\n"
     ]
    }
   ],
   "source": [
    "def calcAge(currentAge, currentYear, comingYear):\n",
    "    return currentAge + (comingYear - currentYear)\n",
    "\n",
    "userName = input(prompt=\"Hello, what’s your name? \")\n",
    "userCurrentAge = int(input(prompt=\"How old are you? \"))\n",
    "currentYear = int(input(prompt=\"Years of this year (ex: 2019) ? \"))\n",
    "\n",
    "strAnswer = userName + \" is \" + str(userCurrentAge) + \" years old.\"\n",
    "print(strAnswer)\n",
    "\n",
    "strAnswer = userName + \" becoms \" + str(calcAge(userCurrentAge, currentYear, currentYear+10)) + \\\n",
    "            \" years old after 10 years.\"\n",
    "print(strAnswer)\n",
    "\n",
    "strAnswer = userName + \" becoms \" + str(calcAge(userCurrentAge, currentYear, 2098)) + \\\n",
    "            \" years old in 2098.\"\n",
    "print(strAnswer)"
   ]
  },
  {
   "cell_type": "markdown",
   "metadata": {},
   "source": [
    "**\\[자가진단\\] 본인이 만든 LAB 프로그램이 제대로 동작하는지 확인합니다.**<br>\n",
    "아래의 입력창을 수정하지 않고, 그대로 실행해서, 아래와 동일하게 나온다면 제대로 작성한 것입니다.<br>\n",
    "만약 그렇지 않다면, ``calcAge()`` 함수를 수정하여 에러가 없도록 다시 작성합니다.<br>"
   ]
  },
  {
   "cell_type": "code",
   "execution_count": 33,
   "metadata": {},
   "outputs": [],
   "source": [
    "assert calcAge(20, 2019, 2029) == 30\n",
    "assert calcAge(20, 2019, 2097) == 98\n",
    "assert calcAge(22, 2019, 2029) == 32\n",
    "assert calcAge(22, 2019, 2097) == 100"
   ]
  },
  {
   "cell_type": "markdown",
   "metadata": {},
   "source": [
    "## 나이 출력 프로그램 개발하기"
   ]
  },
  {
   "cell_type": "markdown",
   "metadata": {},
   "source": [
    "사용자로부터 주민등록번호 앞자리를 입력 받아서, \"당신의 생일은 OOOO년 OO월 OO일 입니다\"라고 출력하는 프로그램을 만들어 봅니다.<br>\n",
    "이를 위해서, ``makeBirthdayString()`` 함수를 개발합니다.<br>\n",
    "조건문을 배우지 않은 관계로, 모든 사용자는 1900년대에 태어난 것으로 가정합니다.<br>\n",
    "이 함수는 입력 파라메타로 사용자가 입력한 주민등록번호를 받아서, 출력값으로 \"당신의 생일은 OOOO년 OO월 OO일 입니다\"과 동일한 문자열을 돌려줍니다.<br>\n",
    "\n",
    "자가진단을 위하여 아래 예제의 모든 입출력 글자가 정확하게 동일하도록 만들어 보십시오.<br>\n",
    "\n",
    "``주민등록번호 앞자리 6자리를 입력해 주세요: 900216``<br>\n",
    "``당신의 생일은 1990년 2월 16일 입니다``<br>\n",
    "\n",
    "아래 입력창에 ``makeBirthdayString()`` 함수와 함께 이 프로그램을 작성하고 실행해 보세요."
   ]
  },
  {
   "cell_type": "code",
   "execution_count": null,
   "metadata": {},
   "outputs": [],
   "source": [
    "def makeBirthdayString(s):\n",
    "    answer = \"당신의 생일은 19\"+s[:2]+\"년 \"+s[2:4]+\"월 \"+s[4:6]+\"일 입니다\"\n",
    "    return answer\n",
    "a=input(prompt=\"주민등록번호 앞자리 6자리를 입력해 주세요 : \")\n",
    "makeBirthdayString(a)"
   ]
  },
  {
   "cell_type": "markdown",
   "metadata": {},
   "source": [
    "**\\[자가진단\\] 본인이 만든 LAB 프로그램이 제대로 동작하는지 확인합니다.**<br>\n",
    "아래의 입력창을 수정하지 않고, 그대로 실행해서, 아래와 동일하게 나온다면 제대로 작성한 것입니다.<br>\n",
    "만약 그렇지 않다면, ``makeBirthdayString()`` 함수를 수정하여 에러가 없도록 다시 작성합니다.<br>"
   ]
  },
  {
   "cell_type": "code",
   "execution_count": 38,
   "metadata": {},
   "outputs": [
    {
     "ename": "AssertionError",
     "evalue": "",
     "output_type": "error",
     "traceback": [
      "\u001b[1;31m---------------------------------------------------------------------------\u001b[0m",
      "\u001b[1;31mAssertionError\u001b[0m                            Traceback (most recent call last)",
      "\u001b[1;32m<ipython-input-38-c2071ac87f83>\u001b[0m in \u001b[0;36m<module>\u001b[1;34m\u001b[0m\n\u001b[1;32m----> 1\u001b[1;33m \u001b[1;32massert\u001b[0m \u001b[0mmakeBirthdayString\u001b[0m\u001b[1;33m(\u001b[0m\u001b[1;34m\"900216\"\u001b[0m\u001b[1;33m)\u001b[0m \u001b[1;33m==\u001b[0m \u001b[1;34m\"당신의 생일은 1990년 2월 16일 입니다\"\u001b[0m\u001b[1;33m\u001b[0m\u001b[1;33m\u001b[0m\u001b[0m\n\u001b[0m\u001b[0;32m      2\u001b[0m \u001b[1;32massert\u001b[0m \u001b[0mmakeBirthdayString\u001b[0m\u001b[1;33m(\u001b[0m\u001b[1;34m\"720222\"\u001b[0m\u001b[1;33m)\u001b[0m \u001b[1;33m==\u001b[0m \u001b[1;34m\"당신의 생일은 1972년 2월 22일 입니다\"\u001b[0m\u001b[1;33m\u001b[0m\u001b[1;33m\u001b[0m\u001b[0m\n",
      "\u001b[1;31mAssertionError\u001b[0m: "
     ]
    }
   ],
   "source": [
    "assert makeBirthdayString(\"900216\") == \"당신의 생일은 1990년 2월 16일 입니다\"\n",
    "assert makeBirthdayString(\"720222\") == \"당신의 생일은 1972년 2월 22일 입니다\""
   ]
  },
  {
   "cell_type": "markdown",
   "metadata": {},
   "source": [
    "## 쇼핑 총액 계산 프로그램 개발하기"
   ]
  },
  {
   "cell_type": "markdown",
   "metadata": {},
   "source": [
    "마트에서 파는 물품의 종류와 가격이 다음과 같이 주어질때,<br>\n",
    "사용자에게 위에서 아래의 품목에 대해서 몇개를 구매할 건지 차례대로 물어본 후, 총액을 계산하여 알려주는 프로그램을 만들어 봅니다.<br>\n",
    "이를 위하여, calcProductSum() 함수를 개발하며, 해당 함수는 상품별 주문 갯수를 표에 적힌 순서대로 입력 받아서, 출력값으로 총액을 돌려줍니다.<br>\n",
    "\n",
    "| 품목 | 가격 |\n",
    "|:-:|:-:|\n",
    "| 사과 | 3000 |\n",
    "| 바나나 | 2500 |\n",
    "| 멜론 | 10000 |\n",
    "| 복숭아 | 5000 |\n",
    "| 포도 | 4000 |\n",
    "\n",
    "아래 입력창에 ``calcProductSum()`` 함수와 함께 이 프로그램을 작성하고 실행해 보세요."
   ]
  },
  {
   "cell_type": "code",
   "execution_count": null,
   "metadata": {},
   "outputs": [],
   "source": [
    "def calcProductSum(a,b,c,d,e) :\n",
    "    return a*3000+b*2500+c*10000+d*5000+e*4000\n",
    "    "
   ]
  },
  {
   "cell_type": "markdown",
   "metadata": {},
   "source": [
    "**\\[자가진단\\] 본인이 만든 LAB 프로그램이 제대로 동작하는지 확인합니다.**<br>\n",
    "아래의 입력창을 수정하지 않고, 그대로 실행해서, 아래와 동일하게 나온다면 제대로 작성한 것입니다.<br>\n",
    "만약 그렇지 않다면, ``calcProductSum()`` 함수를 수정하여 에러가 없도록 다시 작성합니다.<br>"
   ]
  },
  {
   "cell_type": "code",
   "execution_count": null,
   "metadata": {},
   "outputs": [],
   "source": [
    "assert calcProductSum(2,2,3,1,4) == 62000\n",
    "assert calcProductSum(1,2,3,4,5) == 78000"
   ]
  },
  {
   "cell_type": "code",
   "execution_count": null,
   "metadata": {},
   "outputs": [],
   "source": []
  }
 ],
 "metadata": {
  "kernelspec": {
   "display_name": "Python 3",
   "language": "python",
   "name": "python3"
  },
  "language_info": {
   "codemirror_mode": {
    "name": "ipython",
    "version": 3
   },
   "file_extension": ".py",
   "mimetype": "text/x-python",
   "name": "python",
   "nbconvert_exporter": "python",
   "pygments_lexer": "ipython3",
   "version": "3.8.8"
  }
 },
 "nbformat": 4,
 "nbformat_minor": 2
}
