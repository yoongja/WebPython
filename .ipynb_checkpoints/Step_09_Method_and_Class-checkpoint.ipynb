{
 "cells": [
  {
   "cell_type": "markdown",
   "metadata": {},
   "source": [
    "# 수업 내용 이해"
   ]
  },
  {
   "cell_type": "markdown",
   "metadata": {},
   "source": [
    "프로그램을 개발하다 보면, Python에서 제공하는 연관된 데이터와 함수들을 묶어서 사용하면 좋겠다는 생각을 하게 됩니다.<br>\n",
    "모듈처럼 단순하게 하나의 화일에 물리적으로 모아 놓는 개념을 넘어서서, 데이터 값과 함수가 상호 의미적으로 연관되어 있는 의미있는 묶음을 의미합니다.<br>\n",
    "이런 경우 본 수업에서 설명하는 Class를 사용하게 됩니다.<br>\n",
    "본 수업에서는 일단 Class와 이에 속한 Methods의 개념을 이해하고, 이미 Python에서 제공하는 기능들을 사용해 봅니다.<br>\n",
    "나중에 우리는 스스로 본인만의 Class를 만들고 사용하게 될 것입니다."
   ]
  },
  {
   "cell_type": "markdown",
   "metadata": {},
   "source": [
    "## Method와 Class 개념 이해하기"
   ]
  },
  {
   "cell_type": "markdown",
   "metadata": {},
   "source": [
    "앞서의 수업에서 우리는 함수에 대해서 배웠으며, 다양한 형태의 함수가 있는 것을 알게 되었습니다.<br>\n",
    "\n",
    "(a) Built-in functions: Python 언어에서 기본 제공하는 함수<br>\n",
    "(b) Functions inside modules: 모듈에 포함되어 모듈을 import 한후 사용하는 함수 (예: 모듈명.함수명())<br>\n",
    "(c) Programmer defined functions: 프로그래머가 본인의 프로그램안에서 직접 만들어서 사용하는 함수<br>\n",
    "\n",
    "하지만 우리는 이미 다른 형태의 함수를 사용한 적이 있습니다.<br>\n",
    "바로 Step.7 Conditional Statement (조건문)에서 다음의 예제를 사용한 것이 있습니다.<br>\n",
    "\n",
    "```python\n",
    "sentence = 'Mary had a little lamb'\n",
    "sentence.count('a')\n",
    "```\n",
    "\n",
    "해당 코드를 살펴보면, 문자열인 ``sentence``의 뒤에 점(``.``)을 찍은후 ``count()`` 함수를 호출하는 것을 보았습니다.<br>\n",
    "이런 함수는 위의 (a)~(c)안에 포함이 되지 않는데, 이건 뭘까요?<br>\n",
    "\n",
    "이런 함수를 Python에서는 ``method``라고 부르는데, ``metohd``는 특정 타입에 포함된 함수로서, 특정 모듈에 포함된 함수와 비슷하지만 다릅니다.<br>\n",
    "특정 모듈에 함수가 포함된다는 것은, Step.8 모듈(Module)에서 수업한 것처럼, 특정 모듈의 화일에 함수를 만들어 넣은 것을 의미합니다.<br>\n",
    "이와 다르게 \"특정 타입\"이라는 것은, 점차 설명을 하겠지만, 관련성이 있는 \"데이터와 함수\"을 묶은 개념이라고 볼수 있습니다.<br>\n",
    "\n",
    "즉 위의 ``sentence``는 문자열(string) 타입 임을 우리는 알고 있습니다.<br>\n",
    "위의 예제에서, 이 문자열 타입인 ``sentence`` 안에는 ``Mary had a little lamb'``라는 데이터가 있으며, <br>\n",
    "본인의 데이터 안에 글자를 세는 ``count()``와 같은 함수도 묶여 있는 것입니다.<br>\n",
    "이런 데이터와 함수가 묶여있는 타입을 Python에서는 ``Class``라고 칭하며, ``Class``안의 함수들을 ``Method``라고 부릅니다.<br>\n",
    "또한 문자열 ``Class`` 타입에서 만들어진 ``sentence``를 ``객체(object)``라고 합니다.<br>\n",
    "\n",
    "특별히 ``Class``로 부터 만들어지는 객체들의 데이터와 함수는 **멤버 데이터**와 **멤버 Method**라고 하여, 특정 타입에 소속된 것임을 강조합니다.<br>\n",
    "\n",
    "결국 위의 문장을 다시 설명한다면 다음과 같습니다.<br>\n",
    "\n",
    "(1) String 타입의 ``Class``를 기반으로 sentence ``객체``를 생성함<br>\n",
    "(2) sentence ``객체``의 ``멤버 데이터``로 'Mary had a little lamb'를 저장함<br>\n",
    "(3) String 타입의 ``Class``면 사용할 수 있는 ``멤버 method``인 count()를 사용하여, 데이터 안에서 글자 'a'의 갯수를 카운트 함<br>\n",
    "\n",
    "설명한 ``String Class``의 ``멤버 Method``에 대해서 더 알고 싶다면, ``help(str)`` 구문을 아래 입력창에서 실행하여,<br>\n",
    "``String Class``의 ``멤버 method``를 살펴보고, 특별히 문자열의 글자를 모두 대문자로 바꾸는 ``upper()`` 함수를 다음 입력창에서 실행해 봅니다."
   ]
  },
  {
   "cell_type": "code",
   "execution_count": 1,
   "metadata": {},
   "outputs": [
    {
     "name": "stdout",
     "output_type": "stream",
     "text": [
      "Help on class str in module builtins:\n",
      "\n",
      "class str(object)\n",
      " |  str(object='') -> str\n",
      " |  str(bytes_or_buffer[, encoding[, errors]]) -> str\n",
      " |  \n",
      " |  Create a new string object from the given object. If encoding or\n",
      " |  errors is specified, then the object must expose a data buffer\n",
      " |  that will be decoded using the given encoding and error handler.\n",
      " |  Otherwise, returns the result of object.__str__() (if defined)\n",
      " |  or repr(object).\n",
      " |  encoding defaults to sys.getdefaultencoding().\n",
      " |  errors defaults to 'strict'.\n",
      " |  \n",
      " |  Methods defined here:\n",
      " |  \n",
      " |  __add__(self, value, /)\n",
      " |      Return self+value.\n",
      " |  \n",
      " |  __contains__(self, key, /)\n",
      " |      Return key in self.\n",
      " |  \n",
      " |  __eq__(self, value, /)\n",
      " |      Return self==value.\n",
      " |  \n",
      " |  __format__(self, format_spec, /)\n",
      " |      Return a formatted version of the string as described by format_spec.\n",
      " |  \n",
      " |  __ge__(self, value, /)\n",
      " |      Return self>=value.\n",
      " |  \n",
      " |  __getattribute__(self, name, /)\n",
      " |      Return getattr(self, name).\n",
      " |  \n",
      " |  __getitem__(self, key, /)\n",
      " |      Return self[key].\n",
      " |  \n",
      " |  __getnewargs__(...)\n",
      " |  \n",
      " |  __gt__(self, value, /)\n",
      " |      Return self>value.\n",
      " |  \n",
      " |  __hash__(self, /)\n",
      " |      Return hash(self).\n",
      " |  \n",
      " |  __iter__(self, /)\n",
      " |      Implement iter(self).\n",
      " |  \n",
      " |  __le__(self, value, /)\n",
      " |      Return self<=value.\n",
      " |  \n",
      " |  __len__(self, /)\n",
      " |      Return len(self).\n",
      " |  \n",
      " |  __lt__(self, value, /)\n",
      " |      Return self<value.\n",
      " |  \n",
      " |  __mod__(self, value, /)\n",
      " |      Return self%value.\n",
      " |  \n",
      " |  __mul__(self, value, /)\n",
      " |      Return self*value.\n",
      " |  \n",
      " |  __ne__(self, value, /)\n",
      " |      Return self!=value.\n",
      " |  \n",
      " |  __repr__(self, /)\n",
      " |      Return repr(self).\n",
      " |  \n",
      " |  __rmod__(self, value, /)\n",
      " |      Return value%self.\n",
      " |  \n",
      " |  __rmul__(self, value, /)\n",
      " |      Return value*self.\n",
      " |  \n",
      " |  __sizeof__(self, /)\n",
      " |      Return the size of the string in memory, in bytes.\n",
      " |  \n",
      " |  __str__(self, /)\n",
      " |      Return str(self).\n",
      " |  \n",
      " |  capitalize(self, /)\n",
      " |      Return a capitalized version of the string.\n",
      " |      \n",
      " |      More specifically, make the first character have upper case and the rest lower\n",
      " |      case.\n",
      " |  \n",
      " |  casefold(self, /)\n",
      " |      Return a version of the string suitable for caseless comparisons.\n",
      " |  \n",
      " |  center(self, width, fillchar=' ', /)\n",
      " |      Return a centered string of length width.\n",
      " |      \n",
      " |      Padding is done using the specified fill character (default is a space).\n",
      " |  \n",
      " |  count(...)\n",
      " |      S.count(sub[, start[, end]]) -> int\n",
      " |      \n",
      " |      Return the number of non-overlapping occurrences of substring sub in\n",
      " |      string S[start:end].  Optional arguments start and end are\n",
      " |      interpreted as in slice notation.\n",
      " |  \n",
      " |  encode(self, /, encoding='utf-8', errors='strict')\n",
      " |      Encode the string using the codec registered for encoding.\n",
      " |      \n",
      " |      encoding\n",
      " |        The encoding in which to encode the string.\n",
      " |      errors\n",
      " |        The error handling scheme to use for encoding errors.\n",
      " |        The default is 'strict' meaning that encoding errors raise a\n",
      " |        UnicodeEncodeError.  Other possible values are 'ignore', 'replace' and\n",
      " |        'xmlcharrefreplace' as well as any other name registered with\n",
      " |        codecs.register_error that can handle UnicodeEncodeErrors.\n",
      " |  \n",
      " |  endswith(...)\n",
      " |      S.endswith(suffix[, start[, end]]) -> bool\n",
      " |      \n",
      " |      Return True if S ends with the specified suffix, False otherwise.\n",
      " |      With optional start, test S beginning at that position.\n",
      " |      With optional end, stop comparing S at that position.\n",
      " |      suffix can also be a tuple of strings to try.\n",
      " |  \n",
      " |  expandtabs(self, /, tabsize=8)\n",
      " |      Return a copy where all tab characters are expanded using spaces.\n",
      " |      \n",
      " |      If tabsize is not given, a tab size of 8 characters is assumed.\n",
      " |  \n",
      " |  find(...)\n",
      " |      S.find(sub[, start[, end]]) -> int\n",
      " |      \n",
      " |      Return the lowest index in S where substring sub is found,\n",
      " |      such that sub is contained within S[start:end].  Optional\n",
      " |      arguments start and end are interpreted as in slice notation.\n",
      " |      \n",
      " |      Return -1 on failure.\n",
      " |  \n",
      " |  format(...)\n",
      " |      S.format(*args, **kwargs) -> str\n",
      " |      \n",
      " |      Return a formatted version of S, using substitutions from args and kwargs.\n",
      " |      The substitutions are identified by braces ('{' and '}').\n",
      " |  \n",
      " |  format_map(...)\n",
      " |      S.format_map(mapping) -> str\n",
      " |      \n",
      " |      Return a formatted version of S, using substitutions from mapping.\n",
      " |      The substitutions are identified by braces ('{' and '}').\n",
      " |  \n",
      " |  index(...)\n",
      " |      S.index(sub[, start[, end]]) -> int\n",
      " |      \n",
      " |      Return the lowest index in S where substring sub is found,\n",
      " |      such that sub is contained within S[start:end].  Optional\n",
      " |      arguments start and end are interpreted as in slice notation.\n",
      " |      \n",
      " |      Raises ValueError when the substring is not found.\n",
      " |  \n",
      " |  isalnum(self, /)\n",
      " |      Return True if the string is an alpha-numeric string, False otherwise.\n",
      " |      \n",
      " |      A string is alpha-numeric if all characters in the string are alpha-numeric and\n",
      " |      there is at least one character in the string.\n",
      " |  \n",
      " |  isalpha(self, /)\n",
      " |      Return True if the string is an alphabetic string, False otherwise.\n",
      " |      \n",
      " |      A string is alphabetic if all characters in the string are alphabetic and there\n",
      " |      is at least one character in the string.\n",
      " |  \n",
      " |  isascii(self, /)\n",
      " |      Return True if all characters in the string are ASCII, False otherwise.\n",
      " |      \n",
      " |      ASCII characters have code points in the range U+0000-U+007F.\n",
      " |      Empty string is ASCII too.\n",
      " |  \n",
      " |  isdecimal(self, /)\n",
      " |      Return True if the string is a decimal string, False otherwise.\n",
      " |      \n",
      " |      A string is a decimal string if all characters in the string are decimal and\n",
      " |      there is at least one character in the string.\n",
      " |  \n",
      " |  isdigit(self, /)\n",
      " |      Return True if the string is a digit string, False otherwise.\n",
      " |      \n",
      " |      A string is a digit string if all characters in the string are digits and there\n",
      " |      is at least one character in the string.\n",
      " |  \n",
      " |  isidentifier(self, /)\n",
      " |      Return True if the string is a valid Python identifier, False otherwise.\n",
      " |      \n",
      " |      Call keyword.iskeyword(s) to test whether string s is a reserved identifier,\n",
      " |      such as \"def\" or \"class\".\n",
      " |  \n",
      " |  islower(self, /)\n",
      " |      Return True if the string is a lowercase string, False otherwise.\n",
      " |      \n",
      " |      A string is lowercase if all cased characters in the string are lowercase and\n",
      " |      there is at least one cased character in the string.\n",
      " |  \n",
      " |  isnumeric(self, /)\n",
      " |      Return True if the string is a numeric string, False otherwise.\n",
      " |      \n",
      " |      A string is numeric if all characters in the string are numeric and there is at\n",
      " |      least one character in the string.\n",
      " |  \n",
      " |  isprintable(self, /)\n",
      " |      Return True if the string is printable, False otherwise.\n",
      " |      \n",
      " |      A string is printable if all of its characters are considered printable in\n",
      " |      repr() or if it is empty.\n",
      " |  \n",
      " |  isspace(self, /)\n",
      " |      Return True if the string is a whitespace string, False otherwise.\n",
      " |      \n",
      " |      A string is whitespace if all characters in the string are whitespace and there\n",
      " |      is at least one character in the string.\n",
      " |  \n",
      " |  istitle(self, /)\n",
      " |      Return True if the string is a title-cased string, False otherwise.\n",
      " |      \n",
      " |      In a title-cased string, upper- and title-case characters may only\n",
      " |      follow uncased characters and lowercase characters only cased ones.\n",
      " |  \n",
      " |  isupper(self, /)\n",
      " |      Return True if the string is an uppercase string, False otherwise.\n",
      " |      \n",
      " |      A string is uppercase if all cased characters in the string are uppercase and\n",
      " |      there is at least one cased character in the string.\n",
      " |  \n",
      " |  join(self, iterable, /)\n",
      " |      Concatenate any number of strings.\n",
      " |      \n",
      " |      The string whose method is called is inserted in between each given string.\n",
      " |      The result is returned as a new string.\n",
      " |      \n",
      " |      Example: '.'.join(['ab', 'pq', 'rs']) -> 'ab.pq.rs'\n",
      " |  \n",
      " |  ljust(self, width, fillchar=' ', /)\n",
      " |      Return a left-justified string of length width.\n",
      " |      \n",
      " |      Padding is done using the specified fill character (default is a space).\n",
      " |  \n",
      " |  lower(self, /)\n",
      " |      Return a copy of the string converted to lowercase.\n",
      " |  \n",
      " |  lstrip(self, chars=None, /)\n",
      " |      Return a copy of the string with leading whitespace removed.\n",
      " |      \n",
      " |      If chars is given and not None, remove characters in chars instead.\n",
      " |  \n",
      " |  partition(self, sep, /)\n",
      " |      Partition the string into three parts using the given separator.\n",
      " |      \n",
      " |      This will search for the separator in the string.  If the separator is found,\n",
      " |      returns a 3-tuple containing the part before the separator, the separator\n",
      " |      itself, and the part after it.\n",
      " |      \n",
      " |      If the separator is not found, returns a 3-tuple containing the original string\n",
      " |      and two empty strings.\n",
      " |  \n",
      " |  replace(self, old, new, count=-1, /)\n",
      " |      Return a copy with all occurrences of substring old replaced by new.\n",
      " |      \n",
      " |        count\n",
      " |          Maximum number of occurrences to replace.\n",
      " |          -1 (the default value) means replace all occurrences.\n",
      " |      \n",
      " |      If the optional argument count is given, only the first count occurrences are\n",
      " |      replaced.\n",
      " |  \n",
      " |  rfind(...)\n",
      " |      S.rfind(sub[, start[, end]]) -> int\n",
      " |      \n",
      " |      Return the highest index in S where substring sub is found,\n",
      " |      such that sub is contained within S[start:end].  Optional\n",
      " |      arguments start and end are interpreted as in slice notation.\n",
      " |      \n",
      " |      Return -1 on failure.\n",
      " |  \n",
      " |  rindex(...)\n",
      " |      S.rindex(sub[, start[, end]]) -> int\n",
      " |      \n",
      " |      Return the highest index in S where substring sub is found,\n",
      " |      such that sub is contained within S[start:end].  Optional\n",
      " |      arguments start and end are interpreted as in slice notation.\n",
      " |      \n",
      " |      Raises ValueError when the substring is not found.\n",
      " |  \n",
      " |  rjust(self, width, fillchar=' ', /)\n",
      " |      Return a right-justified string of length width.\n",
      " |      \n",
      " |      Padding is done using the specified fill character (default is a space).\n",
      " |  \n",
      " |  rpartition(self, sep, /)\n",
      " |      Partition the string into three parts using the given separator.\n",
      " |      \n",
      " |      This will search for the separator in the string, starting at the end. If\n",
      " |      the separator is found, returns a 3-tuple containing the part before the\n",
      " |      separator, the separator itself, and the part after it.\n",
      " |      \n",
      " |      If the separator is not found, returns a 3-tuple containing two empty strings\n",
      " |      and the original string.\n",
      " |  \n",
      " |  rsplit(self, /, sep=None, maxsplit=-1)\n",
      " |      Return a list of the words in the string, using sep as the delimiter string.\n",
      " |      \n",
      " |        sep\n",
      " |          The delimiter according which to split the string.\n",
      " |          None (the default value) means split according to any whitespace,\n",
      " |          and discard empty strings from the result.\n",
      " |        maxsplit\n",
      " |          Maximum number of splits to do.\n",
      " |          -1 (the default value) means no limit.\n",
      " |      \n",
      " |      Splits are done starting at the end of the string and working to the front.\n",
      " |  \n",
      " |  rstrip(self, chars=None, /)\n",
      " |      Return a copy of the string with trailing whitespace removed.\n",
      " |      \n",
      " |      If chars is given and not None, remove characters in chars instead.\n",
      " |  \n",
      " |  split(self, /, sep=None, maxsplit=-1)\n",
      " |      Return a list of the words in the string, using sep as the delimiter string.\n",
      " |      \n",
      " |      sep\n",
      " |        The delimiter according which to split the string.\n",
      " |        None (the default value) means split according to any whitespace,\n",
      " |        and discard empty strings from the result.\n",
      " |      maxsplit\n",
      " |        Maximum number of splits to do.\n",
      " |        -1 (the default value) means no limit.\n",
      " |  \n",
      " |  splitlines(self, /, keepends=False)\n",
      " |      Return a list of the lines in the string, breaking at line boundaries.\n",
      " |      \n",
      " |      Line breaks are not included in the resulting list unless keepends is given and\n",
      " |      true.\n",
      " |  \n",
      " |  startswith(...)\n",
      " |      S.startswith(prefix[, start[, end]]) -> bool\n",
      " |      \n",
      " |      Return True if S starts with the specified prefix, False otherwise.\n",
      " |      With optional start, test S beginning at that position.\n",
      " |      With optional end, stop comparing S at that position.\n",
      " |      prefix can also be a tuple of strings to try.\n",
      " |  \n",
      " |  strip(self, chars=None, /)\n",
      " |      Return a copy of the string with leading and trailing whitespace removed.\n",
      " |      \n",
      " |      If chars is given and not None, remove characters in chars instead.\n",
      " |  \n",
      " |  swapcase(self, /)\n",
      " |      Convert uppercase characters to lowercase and lowercase characters to uppercase.\n",
      " |  \n",
      " |  title(self, /)\n",
      " |      Return a version of the string where each word is titlecased.\n",
      " |      \n",
      " |      More specifically, words start with uppercased characters and all remaining\n",
      " |      cased characters have lower case.\n",
      " |  \n",
      " |  translate(self, table, /)\n",
      " |      Replace each character in the string using the given translation table.\n",
      " |      \n",
      " |        table\n",
      " |          Translation table, which must be a mapping of Unicode ordinals to\n",
      " |          Unicode ordinals, strings, or None.\n",
      " |      \n",
      " |      The table must implement lookup/indexing via __getitem__, for instance a\n",
      " |      dictionary or list.  If this operation raises LookupError, the character is\n",
      " |      left untouched.  Characters mapped to None are deleted.\n",
      " |  \n",
      " |  upper(self, /)\n",
      " |      Return a copy of the string converted to uppercase.\n",
      " |  \n",
      " |  zfill(self, width, /)\n",
      " |      Pad a numeric string with zeros on the left, to fill a field of the given width.\n",
      " |      \n",
      " |      The string is never truncated.\n",
      " |  \n",
      " |  ----------------------------------------------------------------------\n",
      " |  Static methods defined here:\n",
      " |  \n",
      " |  __new__(*args, **kwargs) from builtins.type\n",
      " |      Create and return a new object.  See help(type) for accurate signature.\n",
      " |  \n",
      " |  maketrans(...)\n",
      " |      Return a translation table usable for str.translate().\n",
      " |      \n",
      " |      If there is only one argument, it must be a dictionary mapping Unicode\n",
      " |      ordinals (integers) or characters to Unicode ordinals, strings or None.\n",
      " |      Character keys will be then converted to ordinals.\n",
      " |      If there are two arguments, they must be strings of equal length, and\n",
      " |      in the resulting dictionary, each character in x will be mapped to the\n",
      " |      character at the same position in y. If there is a third argument, it\n",
      " |      must be a string, whose characters will be mapped to None in the result.\n",
      "\n"
     ]
    }
   ],
   "source": [
    "help(str)"
   ]
  },
  {
   "cell_type": "code",
   "execution_count": 2,
   "metadata": {},
   "outputs": [
    {
     "data": {
      "text/plain": [
       "'MARY HAD A LITTLE LAMB'"
      ]
     },
     "execution_count": 2,
     "metadata": {},
     "output_type": "execute_result"
    }
   ],
   "source": [
    "sentence = 'Mary had a little lamb'\n",
    "sentence.upper()"
   ]
  },
  {
   "cell_type": "markdown",
   "metadata": {},
   "source": [
    "## Python의 기본 Class 이해하기"
   ]
  },
  {
   "cell_type": "markdown",
   "metadata": {},
   "source": [
    "앞서의 설명에서 우리는 ``Class``를 일종의 타입이라고 하였으며, 데이터와 함수(method)의 묶음이라고 정의했습니다.<br>\n",
    "이미 익숙하게 사용하는 정수, 실수도 문자열과 마찬가지로 ``Class``이며, 각각 ``int``와 ``float`` 타입 입니다.<br>\n",
    "\n",
    "아래의 입력창에 다음의 구문을 실행해서 직접 익숙한 데이터 타입의 ``Class``가 어떤 것인지를 확인해 봅니다.<br>\n",
    "\n",
    "```python\n",
    "print(type(17))\n",
    "print(type(17.0))\n",
    "print(type(\"17\"))\n",
    "```"
   ]
  },
  {
   "cell_type": "code",
   "execution_count": 3,
   "metadata": {
    "scrolled": true
   },
   "outputs": [
    {
     "name": "stdout",
     "output_type": "stream",
     "text": [
      "<class 'int'>\n",
      "<class 'float'>\n",
      "<class 'str'>\n"
     ]
    }
   ],
   "source": [
    "print(type(17))\n",
    "print(type(17.0))\n",
    "print(type(\"17\"))"
   ]
  },
  {
   "cell_type": "markdown",
   "metadata": {},
   "source": [
    "알아두면 요긴한 문자열 Class의 멤버 Method를 좀 더 실행해 보도록 합니다.<br>\n",
    "각각의 method에 대한 설명은 아래의 참조사이트에서 해당 method를 찾아 이해하기 바랍니다.<br>\n",
    "\\[참조문헌\\]: https://docs.python.org/3/library/stdtypes.html#text-sequence-type-str <br>\n",
    "\n",
    "아래의 입력창에 다음의 구문을 실행해서 문자열 Class의 멤버 method가 어떤 기능을 하는지를 확인해 봅니다.<br>\n",
    "\n",
    "```python\n",
    "tempString = \"Dr.Sungwon\"\n",
    "print(tempString.capitalize())\n",
    "print(tempString.upper())\n",
    "print(tempString.lower())\n",
    "print(tempString.center(20))\n",
    "print(tempString.count('.'))\n",
    "```"
   ]
  },
  {
   "cell_type": "code",
   "execution_count": 4,
   "metadata": {},
   "outputs": [
    {
     "name": "stdout",
     "output_type": "stream",
     "text": [
      "Dr.sungwon\n",
      "DR.SUNGWON\n",
      "dr.sungwon\n",
      "     Dr.Sungwon     \n",
      "1\n"
     ]
    }
   ],
   "source": [
    "tempString = \"Dr.Sungwon\"\n",
    "print(tempString.capitalize())\n",
    "print(tempString.upper())\n",
    "print(tempString.lower())\n",
    "print(tempString.center(20))\n",
    "print(tempString.count('.'))"
   ]
  },
  {
   "cell_type": "markdown",
   "metadata": {},
   "source": [
    "멤버 method를 실행하는 방법으로, 조금 이상할지 모르지만, 다음과 같이 정수/실수/문자열의 값에 바로 ``.``을 찍어서 method를 실행하기도 합니다.<br>\n",
    "\n",
    "나중을 위해서, 아래의 입력창에 다음의 구문을 실행해보기 바랍니다. <br>\n",
    "\n",
    "```python\n",
    "\"Dr.Sungwon\".capitalize()\n",
    "\"Dr.Sungwon\".upper()\n",
    "\"Dr.Sungwon\".lower()\n",
    "\"Dr.Sungwon\".center(20)\n",
    "\"Dr.Sungwon\".count('.')\n",
    "```"
   ]
  },
  {
   "cell_type": "code",
   "execution_count": 5,
   "metadata": {},
   "outputs": [
    {
     "data": {
      "text/plain": [
       "1"
      ]
     },
     "execution_count": 5,
     "metadata": {},
     "output_type": "execute_result"
    }
   ],
   "source": [
    "\"Dr.Sungwon\".capitalize()\n",
    "\"Dr.Sungwon\".upper()\n",
    "\"Dr.Sungwon\".lower()\n",
    "\"Dr.Sungwon\".center(20)\n",
    "\"Dr.Sungwon\".count('.')"
   ]
  },
  {
   "cell_type": "markdown",
   "metadata": {},
   "source": [
    "## 문자열 Class Methods 알아두기"
   ]
  },
  {
   "cell_type": "markdown",
   "metadata": {},
   "source": [
    "문자열 Class는 실제 문제 해결을 위하여 매우 많이 자주 사용되므로, 다음 Python 사이트의 ``String methods`` 부분을 꼭 읽어 보기 권합니다.<br>\n",
    "\\[참조문헌\\]: https://docs.python.org/3/library/stdtypes.html#text-sequence-type-str <br>\n",
    "\n",
    "특별히 ``format()``은 결과값의 형태를 규격화하기 위한 유용한 method 로서, 다음의 코드를 수행하고 이해하는 것을 반드시 스스로 해보도록 합니다.\n",
    "\n",
    "```python\n",
    "print('{0} ate {1} apples {2}'.format('I', '3', 'yesterday'))\n",
    "print('{0} ate {1} apples {2}'.format('You', '5', 'at 2 pm'))\n",
    "print('{1} ate {0} apples {2}'.format('5', 'You', 'at 2 pm'))\n",
    "print('{} ate {} apples {}'.format('I', '3', 'yesterday'))\n",
    "\n",
    "import math\n",
    "myPi = math.pi\n",
    "print('Pi rounded to {0} decimal places is {1:.2f}.'.format(2, myPi))\n",
    "print('Pi rounded to {0} decimal places is {1:.3f}.'.format(3, myPi))\n",
    "print('Pi rounded to {0} decimal places is {1:.4f}.'.format(4, myPi))\n",
    "\n",
    "mySentence = \"Pi rounded to {0} decimal places is {1:.4f}.\"\n",
    "print(mySentence.format(4, myPi))\n",
    "```"
   ]
  },
  {
   "cell_type": "code",
   "execution_count": 6,
   "metadata": {},
   "outputs": [
    {
     "name": "stdout",
     "output_type": "stream",
     "text": [
      "I ate 3 apples yesterday\n",
      "You ate 5 apples at 2 pm\n",
      "You ate 5 apples at 2 pm\n",
      "I ate 3 apples yesterday\n",
      "Pi rounded to 2 decimal places is 3.14.\n",
      "Pi rounded to 3 decimal places is 3.142.\n",
      "Pi rounded to 4 decimal places is 3.1416.\n",
      "Pi rounded to 4 decimal places is 3.1416.\n"
     ]
    }
   ],
   "source": [
    "print('{0} ate {1} apples {2}'.format('I', '3', 'yesterday'))\n",
    "print('{0} ate {1} apples {2}'.format('You', '5', 'at 2 pm'))\n",
    "print('{1} ate {0} apples {2}'.format('5', 'You', 'at 2 pm'))\n",
    "print('{} ate {} apples {}'.format('I', '3', 'yesterday'))\n",
    "\n",
    "import math\n",
    "myPi = math.pi\n",
    "print('Pi rounded to {0} decimal places is {1:.2f}.'.format(2, myPi))\n",
    "print('Pi rounded to {0} decimal places is {1:.3f}.'.format(3, myPi))\n",
    "print('Pi rounded to {0} decimal places is {1:.4f}.'.format(4, myPi))\n",
    "\n",
    "mySentence = \"Pi rounded to {0} decimal places is {1:.4f}.\"\n",
    "print(mySentence.format(4, myPi))"
   ]
  },
  {
   "cell_type": "markdown",
   "metadata": {},
   "source": [
    "# 실습 (LAB)"
   ]
  },
  {
   "cell_type": "markdown",
   "metadata": {},
   "source": [
    "## 문자열 Methods 활용하기 (1)"
   ]
  },
  {
   "cell_type": "markdown",
   "metadata": {},
   "source": [
    "다음의 기능을 위에서 아래로 차례대로 실행하면서, 결과를 화면에 출력하는 프로그램을 아래 입력창에서 만들고 실행해서 결과를 확인합니다.<br>\n",
    "\n",
    "(1) ``name`` 이라는 변수를 생성하여 본인의 이름을 소문자 string 값으로 지정합니다.<br>\n",
    "(2) string method 중 하나를 사용하여 name의 첫번째 문자만 대문자로 바꾸어 화면에 출력합니다.<br>\n",
    "(3) string method 중 하나를 사용하여 name의 모든 문자를 대문자로 바꾸어 화면에 출력합니다.<br>\n",
    "(4) ``len()`` 함수를 사용하여 name의 문자 개수를 출력합니다.<br>\n",
    "(5) string method 중 하나를 사용하여 name에 포함된 'g'의 개수를 출력합니다.<br>"
   ]
  },
  {
   "cell_type": "code",
   "execution_count": 8,
   "metadata": {},
   "outputs": [
    {
     "name": "stdout",
     "output_type": "stream",
     "text": [
      "Yoon ji\n",
      "YOON JI\n",
      "7\n",
      "0\n"
     ]
    }
   ],
   "source": [
    "name = \"yoon ji\"\n",
    "print(name.capitalize())\n",
    "print(name.upper())\n",
    "print(len(name))\n",
    "print(name.count('g'))"
   ]
  },
  {
   "cell_type": "markdown",
   "metadata": {},
   "source": [
    "## 문자열 Methods 활용하기 (2)"
   ]
  },
  {
   "cell_type": "markdown",
   "metadata": {},
   "source": [
    "다음의 기능을 위에서 아래로 차례대로 실행하면서, 결과를 화면에 출력하는 프로그램을 아래 입력창에서 만들고 실행해서 결과를 확인합니다.<br>\n",
    "\n",
    "(1) string method인 ``find()``를 사용하여 'tomato'단어 안에 첫번째 'o' 의 위치(인덱스)를 찾아내어 출력하시오. <br>\n",
    "(2) string method인 ``find()``를 사용하여 'tomato'단어 안에 두번째 'o' 의 위치(인덱스)를 찾아내어 출력하시오."
   ]
  },
  {
   "cell_type": "code",
   "execution_count": 9,
   "metadata": {},
   "outputs": [
    {
     "name": "stdout",
     "output_type": "stream",
     "text": [
      "1\n",
      "5\n"
     ]
    }
   ],
   "source": [
    "tomato = \"tomato\"\n",
    "print(tomato.find('o'))\n",
    "print(tomato.find('o',2))"
   ]
  },
  {
   "cell_type": "markdown",
   "metadata": {},
   "source": [
    "## 문자열 Methods를 이용한 크리스마스 트리 만들기"
   ]
  },
  {
   "cell_type": "markdown",
   "metadata": {},
   "source": [
    "사용자로부터 나무를 그리는데 사용할 문자 하나, 그리고 받침을 그리는데 사용할 문자 하나를 입력 받습니다.<br>\n",
    "다음은 실행 예제로서, 아래와 같은 결과가 화면에 나타날 수 있도록, 문자열 Methods를 충분히 활용하여 프로그램을 만들고 실행합니다.<br>\n",
    "\n",
    "Enter your code for tree: *<br>\n",
    "Enter your code for floor: #<br>\n",
    "          *          \n",
    "         ***         \n",
    "        *****        \n",
    "       *******       \n",
    "      *********    \n",
    "     ***********     \n",
    "    *************   \n",
    "         ###         \n",
    "         ###         \n",
    "         ### "
   ]
  },
  {
   "cell_type": "code",
   "execution_count": 11,
   "metadata": {},
   "outputs": [
    {
     "name": "stdout",
     "output_type": "stream",
     "text": [
      "Enter your code for tree:*\n",
      "Enter your code for floor:#\n",
      "          *          \n",
      "          **         \n",
      "         ***         \n",
      "         ****        \n",
      "        *****        \n",
      "        ******       \n",
      "       *******       \n",
      "         ###         \n",
      "         ###         \n",
      "         ###         \n"
     ]
    }
   ],
   "source": [
    "a = input(\"Enter your code for tree:\")\n",
    "b = input(\"Enter your code for floor:\")\n",
    "for i in range(1,8) :\n",
    "    print((a*i).center(21))\n",
    "for i in range(1,4) : \n",
    "    print((b*3).center(21))"
   ]
  },
  {
   "cell_type": "code",
   "execution_count": null,
   "metadata": {},
   "outputs": [],
   "source": []
  },
  {
   "cell_type": "code",
   "execution_count": null,
   "metadata": {},
   "outputs": [],
   "source": []
  }
 ],
 "metadata": {
  "kernelspec": {
   "display_name": "Python 3",
   "language": "python",
   "name": "python3"
  },
  "language_info": {
   "codemirror_mode": {
    "name": "ipython",
    "version": 3
   },
   "file_extension": ".py",
   "mimetype": "text/x-python",
   "name": "python",
   "nbconvert_exporter": "python",
   "pygments_lexer": "ipython3",
   "version": "3.8.8"
  }
 },
 "nbformat": 4,
 "nbformat_minor": 2
}
