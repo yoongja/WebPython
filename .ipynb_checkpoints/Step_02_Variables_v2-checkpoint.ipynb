{
 "cells": [
  {
   "cell_type": "markdown",
   "metadata": {},
   "source": [
    "# 수업 내용 확인"
   ]
  },
  {
   "cell_type": "markdown",
   "metadata": {},
   "source": [
    "본 수업에서는 어떤 프로그래밍 언어를 배우더라도 항상 접하게 되는 최초의 프로그램인 \"Hello World\"를 만나게 됩니다.<br>\n",
    "그리고 Python의 기본 사칙연산 연산자와 변수의 개념을 익힘으로서, 간단한 산수 계산을 Python을 이용하여 할수 있도록 합니다.<br>"
   ]
  },
  {
   "cell_type": "markdown",
   "metadata": {},
   "source": [
    "## Hello World 프로그램 실행하기"
   ]
  },
  {
   "cell_type": "markdown",
   "metadata": {},
   "source": [
    "가장 기초적인 \"Hello World 프로그램\"을 입력하고 실행해 봅니다.<br>\n",
    "아직은 프로그램의 의미를 모르겠지만, 간단하게 ``Hello World``라는 문장을 화면에 출력하는 프로그램입니다.<br>\n",
    "아래의 코드를 입력하고 실행해 봅니다.<br>\n",
    "\n",
    "```python\n",
    "print(\"Hello World\")\n",
    "```\n",
    "\n",
    "- **입력**은 아래의 ``In [ ]``으로 표현된 입력창(박스)안에 (위의) Python 프로그램을 타이핑하는 것을 의미하며,<br>\n",
    "- **실행**은 Python 프로그램을 입력한 ``In [ ]``박스안에서, 상단 메뉴의 ``Run`` 단추를 누르거나 ``Control + Enter`` 버튼을 입력하는 것 입니다. <br> \n",
    "\n",
    "``print()`` 문법은 Python에서 괄호안의 내용을 화면에 출력합니다.<br>\n",
    "위의 예제와 같이 ``\"`` ``\"`` 기호로 앞뒤를 감싼 문자열을 주면, 해당 문자열을 그대로 출력합니다.<br>"
   ]
  },
  {
   "cell_type": "code",
   "execution_count": 2,
   "metadata": {},
   "outputs": [
    {
     "name": "stdout",
     "output_type": "stream",
     "text": [
      "Hello World\n"
     ]
    }
   ],
   "source": [
    "print(\"Hello World\")"
   ]
  },
  {
   "cell_type": "markdown",
   "metadata": {},
   "source": [
    "``print(9+1)``과 같이 계산식을 주면, 계산한 결과 값을 화면에 출력하는 기능을 수행합니다.<br>\n",
    "아래의 입력창에서 ``print(9+1)``를 입력하고 실행해 봅니다.<br>"
   ]
  },
  {
   "cell_type": "code",
   "execution_count": 1,
   "metadata": {},
   "outputs": [
    {
     "name": "stdout",
     "output_type": "stream",
     "text": [
      "10\n"
     ]
    }
   ],
   "source": [
    "print(9+1)"
   ]
  },
  {
   "cell_type": "markdown",
   "metadata": {},
   "source": [
    "## 더하기와 빼기 계산하기"
   ]
  },
  {
   "cell_type": "markdown",
   "metadata": {},
   "source": [
    "Python의 더하기와 빼기 연산자는 이미 수학에서 배운 기호인 ``+``와 ``-``를 동일하게 사용합니다.<br>\n",
    "단순하게 정수들을 더하고 빼는 작업을 해봅니다.<br>\n",
    "다음의 각줄을 '한줄씩' 아래의 입력창에 입력하고 실행하여, 제대로 된 더하기와 빼기 연산이 이루어 지는 것을 확인합니다.<br>\n",
    "```python\n",
    "4 + 13\n",
    "15 - 3\n",
    "```"
   ]
  },
  {
   "cell_type": "code",
   "execution_count": 5,
   "metadata": {},
   "outputs": [
    {
     "data": {
      "text/plain": [
       "12"
      ]
     },
     "execution_count": 5,
     "metadata": {},
     "output_type": "execute_result"
    }
   ],
   "source": [
    "4 +13\n",
    "15 - 3"
   ]
  },
  {
   "cell_type": "markdown",
   "metadata": {},
   "source": [
    "위에서 나타낸 두 연산식을 한줄씩 실행하지 않고, 두줄을 한번에 모두 실행하는 것은 ``print()`` 문법을 사용하여, 다음과 같이 하면 가능합니다.<br>\n",
    "```python\n",
    "print(4 + 13)\n",
    "print(15 - 2)\n",
    "```\n",
    "아래 입력창에 상기 ``print()`` 문법을 사용한 두줄을 한꺼번에 입력해서, 실행해 보기바랍니다."
   ]
  },
  {
   "cell_type": "code",
   "execution_count": 6,
   "metadata": {},
   "outputs": [
    {
     "name": "stdout",
     "output_type": "stream",
     "text": [
      "17\n",
      "13\n"
     ]
    }
   ],
   "source": [
    "print(4+13)\n",
    "print(15-2)"
   ]
  },
  {
   "cell_type": "markdown",
   "metadata": {},
   "source": [
    "## 곱하기 계산하기"
   ]
  },
  {
   "cell_type": "markdown",
   "metadata": {},
   "source": [
    "Python의 곱하기 연산자는 수학에서 사용하는 ``x`` 기호가 아닌 ``*`` 기호를 사용합니다.<br>\n",
    "다음을 아래의 입력창에 입력하고 실행하여, 제대로 된 곱하기 연산 이루어 지는 것을 확인합니다.<br>\n",
    "```python\n",
    "9 * 9\n",
    "```"
   ]
  },
  {
   "cell_type": "code",
   "execution_count": 7,
   "metadata": {},
   "outputs": [
    {
     "data": {
      "text/plain": [
       "81"
      ]
     },
     "execution_count": 7,
     "metadata": {},
     "output_type": "execute_result"
    }
   ],
   "source": [
    "9*9"
   ]
  },
  {
   "cell_type": "markdown",
   "metadata": {},
   "source": [
    "## 나누기 계산하기"
   ]
  },
  {
   "cell_type": "markdown",
   "metadata": {},
   "source": [
    "Python을 포함한 컴퓨터 프로그래밍 언어의 나누기는 조금 복잡하게 느낄 수 있습니다.<br>\n",
    "Python은 나누기 관련 3개의 연산자가 있습니다.<br>\n",
    "첫번째, ``/``은 Division 연산자라고 하며, 나누기 결과를 실수로 출력하는 수학의 나누기 연산자의 역할을 합니다.<br>\n",
    "두번째, ``//``은 Integer (혹은 floor) Division 연산자라고 하며, 몫을 출력합니다.<br>\n",
    "세번째, ``%``는 Remainder 연산자라고 하며, 나머지를 출력합니다.<br>\n",
    "간단하게 다음의 수식들을 각각 한줄씩 입력하고 실행하여 결과를 확인해 봅니다.<br>\n",
    "```python\n",
    "11 / 2\n",
    "11 // 2\n",
    "8.5 % 3.5\n",
    "```"
   ]
  },
  {
   "cell_type": "code",
   "execution_count": 10,
   "metadata": {},
   "outputs": [
    {
     "data": {
      "text/plain": [
       "1.5"
      ]
     },
     "execution_count": 10,
     "metadata": {},
     "output_type": "execute_result"
    }
   ],
   "source": [
    "8.5%3.5"
   ]
  },
  {
   "cell_type": "markdown",
   "metadata": {},
   "source": [
    "## 기타 기본 연산자 이해하기"
   ]
  },
  {
   "cell_type": "markdown",
   "metadata": {},
   "source": [
    "Python에서 자주 사용하는 다른 기본 연산자는 ``-``와 ``**``가 있습니다.<br>\n",
    "기호 ``-``가 변수나 숫자의 앞에 있으면, 양수를 음수로 바꾸고, 음수를 양수로 바꾸는 역할(Negation)을 합니다.<br>\n",
    "기호 ``**``는 Exponentiation 연산자라고 하며, 지수 계산을 합니다.<br>\n",
    "간단하게 다음의 수식을 각각 한줄씩 입력하고 실행하여 결과를 확인해 봅니다.<br>\n",
    "```python\n",
    "-5\n",
    "2 ** 5\n",
    "```"
   ]
  },
  {
   "cell_type": "code",
   "execution_count": 12,
   "metadata": {},
   "outputs": [
    {
     "data": {
      "text/plain": [
       "32"
      ]
     },
     "execution_count": 12,
     "metadata": {},
     "output_type": "execute_result"
    }
   ],
   "source": [
    "2**5"
   ]
  },
  {
   "cell_type": "markdown",
   "metadata": {},
   "source": [
    "Python은 이외에도 다양한 목적의 연산자를 지원합니다.<br>\n",
    "특별히 복수의 연산자가 한줄에 섞여서 사용될 경우에 대한 연산자 우선순위는 다음과 같으며, 상위가 낮은 우선 순위입니다.<br>\n",
    "\n",
    "| Operator | Description |                              \n",
    "|:---:|:---:|\n",
    "| +, - | Addition and subtraction |\n",
    "| \\*, /, //, % | Multiplication, Division, floor division, remainder |\n",
    "| +x, -x | Positive, negative |\n",
    "| ** | Exponentiation |\n",
    "\n",
    "Python은 기본 연산자외에도 다양한 연산자를 지원합니다.<br>\n",
    "각 연산자에 대한 설명과 연산자 간 우선순위에 대해서 구체적으로 알고 싶다면 관련 자료 혹은,<br>\n",
    "Python 공식 언어 웹사이트(<https://docs.python.org/3/reference/expressions.html>)를 방문합니다."
   ]
  },
  {
   "cell_type": "markdown",
   "metadata": {},
   "source": [
    "## 기본 데이터 타입 이해하기"
   ]
  },
  {
   "cell_type": "markdown",
   "metadata": {},
   "source": [
    "Python과 같은 컴퓨터 프로그래밍 언어는 무한한 실제 세상을 유한한 컴퓨터의 세상에 담기 위하여, 다양한 데이터 타입을 제공합니다.<br>\n",
    "가장 기초적인 데이터 타입은 수학의 정수(integer), 실수(float) 및 복소수(complex) 입니다.<br>\n",
    "Python 프로그래밍을 하면서, 프로그램에서 사용하는 데이터의 타입을 알고 싶으면 ``type()`` 문법을 사용하면 됩니다.<br>\n",
    "다음의 문장을 각각 한줄씩 입력하고 실행하여 결과를 확인해 보면, ``type()`` 문법으로 숫자의 타입을 출력하는 것을 실습할 수 있습니다.<br>\n",
    "```python\n",
    "type(17)\n",
    "type(17.0)\n",
    "```"
   ]
  },
  {
   "cell_type": "code",
   "execution_count": null,
   "metadata": {},
   "outputs": [],
   "source": []
  },
  {
   "cell_type": "markdown",
   "metadata": {},
   "source": [
    "Python에서 숫자는 기본적으로 위와 같이 십진법을 사용합니다.<br>\n",
    "하지만 필요시에는 8진법 혹은 16진법과 같은 다른 진법을 사용하기도 합니다.<br>\n",
    "이 경우 숫자가 8진법인 경우는 숫자앞에 ``0o``를 붙여서 0o34처럼 십진법의 28을 나타내며,<br>\n",
    "16진법의 경우는 숫자앞에 ``0x``를 붙여서 0x34처럼 십진법의 52을 나타내기도 합니다.<br>\n",
    "위에서 ``0o``의 ``0``는 숫자 ``0``이고, ``o``는 알파벳 ``O``의 소문자 ``o``이며,<br>\n",
    "``0x``의 ``0``는 숫자 ``0``이고, ``x``는 알파벳 ``X``의 소문자 ``x``입니다.<br>\n",
    "다음의 문장을 각각 한줄씩 입력하고 실행하여 결과를 확인하여 실습해보기 바랍니다.<br>\n",
    "```python\n",
    "0o34\n",
    "0x34\n",
    "```"
   ]
  },
  {
   "cell_type": "code",
   "execution_count": null,
   "metadata": {},
   "outputs": [],
   "source": []
  },
  {
   "cell_type": "markdown",
   "metadata": {},
   "source": [
    "## 변수의 개념 이해하기"
   ]
  },
  {
   "cell_type": "markdown",
   "metadata": {},
   "source": [
    "다음은 수학 기호를 이용하여 화씨 온도인 F를 섭씨 온도인 C로 변환하는 것을 나타낸 것입니다.<br>\n",
    "\n",
    "``Fahrenheit to Celsius (수학)``: $C=(F-32)*\\frac{5}{9}$\n",
    "\n",
    "수학 수업을 통해서, 우리는 F에 어떤 값을 대입할 경우에, 해당 수식을 계산할 수 있음을 알고 있습니다.<br>\n",
    "즉, ``F``에 212이라는 값을 대입 한다면, ``C``는 100이라는 값으로 계산이 된다는 것을 이해하는 것이지요.<br>\n",
    "이런 경우, ``F``는 변하는 값을 갖는 변수로서, 예제의 경우는 212의 값을 갖으며, ``C``도 변수로서 이경우 100이라는 값을 갖게 됩니다.<br>\n",
    "이와 같이, Python에서도 변수를 만들어서, 필요한 시점에 필요한 값을 '저장'하는 용도로 활용합니다.<br>\n",
    "Python과 같은 컴퓨터 프로그래밍 언어에서의 변수 이름은 반드시 용도를 이해할 수 있는 길이와 단어를 사용합니다.<br>\n",
    "위의 수학 공식을 Python 코드 스타일로 바꾸면 다음과 같이 됩니다.<br>\n",
    "\n",
    "``Fahrenheit to Celsius (Python)``: \n",
    "```python\n",
    "degree_celsius = (degree_fahrenheit - 32) * 5 / 9\n",
    "```\n",
    "\n",
    "실제로 다음의 코드를 아래의 입력창에 입력하고, 수행하여 화씨 212도가 섭씨 100도로 제대로 변환이 되는지를 확인해 봅니다.<br>\n",
    "```python\n",
    "degree_fahrenheit = 212\n",
    "degree_celsius = (degree_fahrenheit - 32) * 5 / 9\n",
    "print(degree_celsius)\n",
    "```\n",
    "Python에서의 변수명은 대소문자 알파벳으로 시작해서 가능하면 이름이 명확한 의미를 전달할 수 있는 명사와 동사를 섞어서 사용하기 권합니다."
   ]
  },
  {
   "cell_type": "code",
   "execution_count": null,
   "metadata": {},
   "outputs": [],
   "source": []
  },
  {
   "cell_type": "markdown",
   "metadata": {},
   "source": [
    "## 주석 작성 하기"
   ]
  },
  {
   "cell_type": "markdown",
   "metadata": {},
   "source": [
    "주석(Comment)은 1) 내가 만든 코드를 미래의 내가 다시 읽을때 이해를 쉽게 하기 위한 용도,<br>\n",
    "그리고 2) 내가 만든 코드를 남에게 주었을때 다른 사람이 내가 만든 코드를 쉽게 이해하기 위한 용도로 활용합니다.<br>\n",
    "실제 Python에 의해서는 실행되지 않는 문장이며, 사람간에 소스 프로그램에 대한 정보를 전달하기 위함입니다.<br>\n",
    "Python에서의 주석은 줄의 시작 부분에 ``#`` 기호를 삽입합니다.<br>\n",
    "예를 들어 앞서 섭씨/화씨 변환 프로그램에 주석을 달면 다음과 같습니다.<br>\n",
    "```python\n",
    "# Purpose: Fahrenheit to Celsius\n",
    "# Date: 2018. 9. 1\n",
    "# Written by: Sungwon Lee\n",
    "degree_celsius = (degree_fahrenheit - 32) * 5 / 9 \n",
    "# degree_fahrenheit: target variable to convert\n",
    "# Contact: drsungwon@khu.ac.kr\n",
    "```\n",
    "최근의 Agile과 같은 프로그래밍 기법은 설계 문서 보다는 동작하는 코드를 중시하는 바,<br>\n",
    "설계 문서를 작성하는 대신에 소스 코드 안에 미리 주석 문으로 수행해야 하는 동작을 기술한 후,<br>\n",
    "실제 Python과 같은 컴퓨터 프로그래밍 언어로 주석문의 내용을 1:1로 구현하는 방식의 기법을 많이 사용합니다.<br>\n",
    "이렇게 함으로서 주석 구문을 설계 방법 처럼 사용하는 것이니, 많이 활용해 보기 바랍니다."
   ]
  },
  {
   "cell_type": "markdown",
   "metadata": {},
   "source": [
    "# 실습 (LAB)"
   ]
  },
  {
   "cell_type": "markdown",
   "metadata": {},
   "source": [
    "## 기본 연산자 실습하기"
   ]
  },
  {
   "cell_type": "markdown",
   "metadata": {},
   "source": [
    "Python 코드로 아래의 계산을 수행하고 결과를 ``print()`` 문법을 사용하여 출력합니다.<br>\n",
    "단순하게 결과 값을 출력하는데 그치지 말고, 왜 그런 결과 값이  나왔는지에 대해서 이해합니다.<br>\n",
    "특별히 어떤 경우에 정수/소수 결과가 나오는지 확인해 봅니다.<br>\n",
    "```python\n",
    "9-3\n",
    "8*25\n",
    "9/2\n",
    "9/-2\n",
    "9//2\n",
    "9//-2\n",
    "9%2\n",
    "9.0%2\n",
    "9%2.0\n",
    "9%-2\n",
    "-9%2\n",
    "9/-2.0\n",
    "4+5*5\n",
    "(4+3)*5\n",
    "```"
   ]
  },
  {
   "cell_type": "code",
   "execution_count": null,
   "metadata": {},
   "outputs": [],
   "source": []
  },
  {
   "cell_type": "markdown",
   "metadata": {},
   "source": [
    "## 변수 활용하기"
   ]
  },
  {
   "cell_type": "markdown",
   "metadata": {},
   "source": [
    "Python을 사용하여 섭씨 온도를 화씨 온도로 변경하는 간단한 프로그램을 만들어 봅니다.<br>\n",
    "1) 변수 temp를 생성하고, 값 24로 설정합니다.<br>\n",
    "2) temp의 값을 섭씨 온도로 가정하여, 이를 화씨 온도로 바꿉니다. 이렇께 바꾼 결과값을 다시 temp 변수에 저장합니다.<br>\n",
    "- 참고로, 섭씨 온도에 1.8을 곱하고 32를 더하면 화씨 온도가 계산됩니다.<br>\n",
    "\n",
    "3) 결과 확인을 위하여 temp 값을 ``print()`` 문법을 사용하여 출력합니다."
   ]
  },
  {
   "cell_type": "code",
   "execution_count": null,
   "metadata": {},
   "outputs": [],
   "source": []
  },
  {
   "cell_type": "markdown",
   "metadata": {},
   "source": [
    "## 기본 연산자 우선 순위 및 주석 처리 실습하기"
   ]
  },
  {
   "cell_type": "markdown",
   "metadata": {},
   "source": [
    "다음의 연산식의 결과를 머리로 계산해 본 후, 다음의 첫번째 입력창에 주석 문으로 답안을 작성해 봅니다.<br>\n",
    "\n",
    "``(a) 6 * 3 + 7 * 4``<br>\n",
    "``(b) 5 + 3 / 4``<br>\n",
    "``(c) 5 - 2 * 3 ** 4``<br>\n",
    "\n",
    "그런 다음, 두번째 출력창에서 ``print()`` 문법을 사용하여 결과를 출력해보고 두개의 답안이 맞는지 확인해 봅니다.<br>"
   ]
  },
  {
   "cell_type": "code",
   "execution_count": null,
   "metadata": {},
   "outputs": [],
   "source": []
  },
  {
   "cell_type": "code",
   "execution_count": null,
   "metadata": {},
   "outputs": [],
   "source": []
  }
 ],
 "metadata": {
  "kernelspec": {
   "display_name": "Python 3",
   "language": "python",
   "name": "python3"
  },
  "language_info": {
   "codemirror_mode": {
    "name": "ipython",
    "version": 3
   },
   "file_extension": ".py",
   "mimetype": "text/x-python",
   "name": "python",
   "nbconvert_exporter": "python",
   "pygments_lexer": "ipython3",
   "version": "3.8.10"
  }
 },
 "nbformat": 4,
 "nbformat_minor": 2
}
