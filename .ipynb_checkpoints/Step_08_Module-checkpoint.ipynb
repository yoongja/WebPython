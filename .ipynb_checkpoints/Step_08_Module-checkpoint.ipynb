{
 "cells": [
  {
   "cell_type": "markdown",
   "metadata": {},
   "source": [
    "# 수업 내용 이해"
   ]
  },
  {
   "cell_type": "markdown",
   "metadata": {},
   "source": [
    "인류는 지난 과거의 기록과 이루어 놓은 업적을 계승 발전함으로서 보다 좋은 방향으로 살고자 노력하게 됩니다.<br>\n",
    "소프트웨어를 개발하는 작업에서도, 남이 이미 만들어 놓은 훌륭한 프로그램들과 본인이 과거에 만들어 놓은 프로그램들을 다시 활용하여 새로운 프로그램을 만들어서, <br>\n",
    "보다 좋고 안정적이며 효율적인 소프트웨어를 개발하게 됩니다.<br>\n",
    "이러한 개념을 전문적으로 재사용(Reuse)라고 칭하며, 가장 기본이 되는 기술적 방법이 바로 본 수업에서 공부할 \"모듈(Module)\"입니다."
   ]
  },
  {
   "cell_type": "markdown",
   "metadata": {},
   "source": [
    "## 모듈 개념 이해하기"
   ]
  },
  {
   "cell_type": "markdown",
   "metadata": {},
   "source": [
    "우리는 수업을 통해서 유용한 많은 기능을 Python 언어에서 이미 제공하는 것을 배웠습니다.<br>\n",
    "Python은 언어이기에 내장하는 기능들이 대부분의 프로그래머에게 필요한 필수적인 것들을 제공하고 있습니다.<br>\n",
    "따라서 특정 분야에서 필수적으로 필요로 하는 기능은, 분야에 제한적이기에 Python 언어에서 기본 내장하기는 어렵습니다.<br>\n",
    "이러한 이유로 수많은 프로그래머들은 본인이 풀고자 하는 문제에서 주요한 기능을 직접 만들고 서로 공유하는 접근을 하게 되며, 이때 중요한 것이 모듈(Module) 입니다.<br>\n",
    "모듈은 프로그래머들이 직접 유용한 함수 등을 작성하여, 다른 사람 혹은 본인의 프로그램 개발시 활용하고자 하는 일종의 별도 화일 입니다.<br>"
   ]
  },
  {
   "cell_type": "markdown",
   "metadata": {},
   "source": [
    "## ``math`` 모듈을 통한 활용방법 이해하기"
   ]
  },
  {
   "cell_type": "markdown",
   "metadata": {},
   "source": [
    "``math`` 모듈은 Python 언어를 사용하여 수학 계산이 필요한 다양한 기능을 제공하며, 별도의 설치 없이 바로 사용 가능합니다.<br>\n",
    "``math`` 모듈이 제공하는 다양한 기능과 자세한 설명은 Python 언어 웹사이트< https://docs.python.org/3/library/math.html >를 참조합니다.<br>\n",
    "\n",
    "앞서 언급한 것처럼, ``math`` 모듈은 별도의 설치없이 바로 사용 가능하기에, 필요한 경우 바로 내가 개발하는 프로그램에 포함할 수 있습니다.<br>\n",
    "모듈을 포함할때 사용하는 Python 문법은 ``import``으로, 단순하게 ``import _모듈이름_``을 실행하면 됩니다.\n",
    "실제 ``math`` 모듈을 불러오는 예제는 다음과 같습니다.\n",
    "\n",
    "```python\n",
    "import math\n",
    "```\n",
    "\n",
    "아래의 입력창에 실제로 입력하여 실행해 보기 바랍니다."
   ]
  },
  {
   "cell_type": "code",
   "execution_count": 1,
   "metadata": {},
   "outputs": [],
   "source": [
    "import math"
   ]
  },
  {
   "cell_type": "markdown",
   "metadata": {},
   "source": [
    "문제 없이 실행되어진 것으로 보이는데, 어떻게 확인을 할까요?<br>\n",
    "이미 수업에서 배운 유용한 기능인 ``type()``과 ``help()``를 사용하여, ``math`` 모듈이 제대로 불러들어져 있는지 확인이 가능합니다.<br>\n",
    "\n",
    "```python\n",
    "type(math)\n",
    "```\n",
    "\n",
    "```python\n",
    "help(math)\n",
    "```\n",
    "\n",
    "아래의 입력창에 실제로 입력하여 실행해 보면, ``math`` 모듈의 타입이 ``module``로 나오는 것과 ``math`` 모듈에서 제공하는 다양한 함수 등의 설명을 볼 수 있습니다.<br>"
   ]
  },
  {
   "cell_type": "code",
   "execution_count": 2,
   "metadata": {},
   "outputs": [
    {
     "name": "stdout",
     "output_type": "stream",
     "text": [
      "Help on built-in module math:\n",
      "\n",
      "NAME\n",
      "    math\n",
      "\n",
      "DESCRIPTION\n",
      "    This module provides access to the mathematical functions\n",
      "    defined by the C standard.\n",
      "\n",
      "FUNCTIONS\n",
      "    acos(x, /)\n",
      "        Return the arc cosine (measured in radians) of x.\n",
      "    \n",
      "    acosh(x, /)\n",
      "        Return the inverse hyperbolic cosine of x.\n",
      "    \n",
      "    asin(x, /)\n",
      "        Return the arc sine (measured in radians) of x.\n",
      "    \n",
      "    asinh(x, /)\n",
      "        Return the inverse hyperbolic sine of x.\n",
      "    \n",
      "    atan(x, /)\n",
      "        Return the arc tangent (measured in radians) of x.\n",
      "    \n",
      "    atan2(y, x, /)\n",
      "        Return the arc tangent (measured in radians) of y/x.\n",
      "        \n",
      "        Unlike atan(y/x), the signs of both x and y are considered.\n",
      "    \n",
      "    atanh(x, /)\n",
      "        Return the inverse hyperbolic tangent of x.\n",
      "    \n",
      "    ceil(x, /)\n",
      "        Return the ceiling of x as an Integral.\n",
      "        \n",
      "        This is the smallest integer >= x.\n",
      "    \n",
      "    comb(n, k, /)\n",
      "        Number of ways to choose k items from n items without repetition and without order.\n",
      "        \n",
      "        Evaluates to n! / (k! * (n - k)!) when k <= n and evaluates\n",
      "        to zero when k > n.\n",
      "        \n",
      "        Also called the binomial coefficient because it is equivalent\n",
      "        to the coefficient of k-th term in polynomial expansion of the\n",
      "        expression (1 + x)**n.\n",
      "        \n",
      "        Raises TypeError if either of the arguments are not integers.\n",
      "        Raises ValueError if either of the arguments are negative.\n",
      "    \n",
      "    copysign(x, y, /)\n",
      "        Return a float with the magnitude (absolute value) of x but the sign of y.\n",
      "        \n",
      "        On platforms that support signed zeros, copysign(1.0, -0.0)\n",
      "        returns -1.0.\n",
      "    \n",
      "    cos(x, /)\n",
      "        Return the cosine of x (measured in radians).\n",
      "    \n",
      "    cosh(x, /)\n",
      "        Return the hyperbolic cosine of x.\n",
      "    \n",
      "    degrees(x, /)\n",
      "        Convert angle x from radians to degrees.\n",
      "    \n",
      "    dist(p, q, /)\n",
      "        Return the Euclidean distance between two points p and q.\n",
      "        \n",
      "        The points should be specified as sequences (or iterables) of\n",
      "        coordinates.  Both inputs must have the same dimension.\n",
      "        \n",
      "        Roughly equivalent to:\n",
      "            sqrt(sum((px - qx) ** 2.0 for px, qx in zip(p, q)))\n",
      "    \n",
      "    erf(x, /)\n",
      "        Error function at x.\n",
      "    \n",
      "    erfc(x, /)\n",
      "        Complementary error function at x.\n",
      "    \n",
      "    exp(x, /)\n",
      "        Return e raised to the power of x.\n",
      "    \n",
      "    expm1(x, /)\n",
      "        Return exp(x)-1.\n",
      "        \n",
      "        This function avoids the loss of precision involved in the direct evaluation of exp(x)-1 for small x.\n",
      "    \n",
      "    fabs(x, /)\n",
      "        Return the absolute value of the float x.\n",
      "    \n",
      "    factorial(x, /)\n",
      "        Find x!.\n",
      "        \n",
      "        Raise a ValueError if x is negative or non-integral.\n",
      "    \n",
      "    floor(x, /)\n",
      "        Return the floor of x as an Integral.\n",
      "        \n",
      "        This is the largest integer <= x.\n",
      "    \n",
      "    fmod(x, y, /)\n",
      "        Return fmod(x, y), according to platform C.\n",
      "        \n",
      "        x % y may differ.\n",
      "    \n",
      "    frexp(x, /)\n",
      "        Return the mantissa and exponent of x, as pair (m, e).\n",
      "        \n",
      "        m is a float and e is an int, such that x = m * 2.**e.\n",
      "        If x is 0, m and e are both 0.  Else 0.5 <= abs(m) < 1.0.\n",
      "    \n",
      "    fsum(seq, /)\n",
      "        Return an accurate floating point sum of values in the iterable seq.\n",
      "        \n",
      "        Assumes IEEE-754 floating point arithmetic.\n",
      "    \n",
      "    gamma(x, /)\n",
      "        Gamma function at x.\n",
      "    \n",
      "    gcd(x, y, /)\n",
      "        greatest common divisor of x and y\n",
      "    \n",
      "    hypot(...)\n",
      "        hypot(*coordinates) -> value\n",
      "        \n",
      "        Multidimensional Euclidean distance from the origin to a point.\n",
      "        \n",
      "        Roughly equivalent to:\n",
      "            sqrt(sum(x**2 for x in coordinates))\n",
      "        \n",
      "        For a two dimensional point (x, y), gives the hypotenuse\n",
      "        using the Pythagorean theorem:  sqrt(x*x + y*y).\n",
      "        \n",
      "        For example, the hypotenuse of a 3/4/5 right triangle is:\n",
      "        \n",
      "            >>> hypot(3.0, 4.0)\n",
      "            5.0\n",
      "    \n",
      "    isclose(a, b, *, rel_tol=1e-09, abs_tol=0.0)\n",
      "        Determine whether two floating point numbers are close in value.\n",
      "        \n",
      "          rel_tol\n",
      "            maximum difference for being considered \"close\", relative to the\n",
      "            magnitude of the input values\n",
      "          abs_tol\n",
      "            maximum difference for being considered \"close\", regardless of the\n",
      "            magnitude of the input values\n",
      "        \n",
      "        Return True if a is close in value to b, and False otherwise.\n",
      "        \n",
      "        For the values to be considered close, the difference between them\n",
      "        must be smaller than at least one of the tolerances.\n",
      "        \n",
      "        -inf, inf and NaN behave similarly to the IEEE 754 Standard.  That\n",
      "        is, NaN is not close to anything, even itself.  inf and -inf are\n",
      "        only close to themselves.\n",
      "    \n",
      "    isfinite(x, /)\n",
      "        Return True if x is neither an infinity nor a NaN, and False otherwise.\n",
      "    \n",
      "    isinf(x, /)\n",
      "        Return True if x is a positive or negative infinity, and False otherwise.\n",
      "    \n",
      "    isnan(x, /)\n",
      "        Return True if x is a NaN (not a number), and False otherwise.\n",
      "    \n",
      "    isqrt(n, /)\n",
      "        Return the integer part of the square root of the input.\n",
      "    \n",
      "    ldexp(x, i, /)\n",
      "        Return x * (2**i).\n",
      "        \n",
      "        This is essentially the inverse of frexp().\n",
      "    \n",
      "    lgamma(x, /)\n",
      "        Natural logarithm of absolute value of Gamma function at x.\n",
      "    \n",
      "    log(...)\n",
      "        log(x, [base=math.e])\n",
      "        Return the logarithm of x to the given base.\n",
      "        \n",
      "        If the base not specified, returns the natural logarithm (base e) of x.\n",
      "    \n",
      "    log10(x, /)\n",
      "        Return the base 10 logarithm of x.\n",
      "    \n",
      "    log1p(x, /)\n",
      "        Return the natural logarithm of 1+x (base e).\n",
      "        \n",
      "        The result is computed in a way which is accurate for x near zero.\n",
      "    \n",
      "    log2(x, /)\n",
      "        Return the base 2 logarithm of x.\n",
      "    \n",
      "    modf(x, /)\n",
      "        Return the fractional and integer parts of x.\n",
      "        \n",
      "        Both results carry the sign of x and are floats.\n",
      "    \n",
      "    perm(n, k=None, /)\n",
      "        Number of ways to choose k items from n items without repetition and with order.\n",
      "        \n",
      "        Evaluates to n! / (n - k)! when k <= n and evaluates\n",
      "        to zero when k > n.\n",
      "        \n",
      "        If k is not specified or is None, then k defaults to n\n",
      "        and the function returns n!.\n",
      "        \n",
      "        Raises TypeError if either of the arguments are not integers.\n",
      "        Raises ValueError if either of the arguments are negative.\n",
      "    \n",
      "    pow(x, y, /)\n",
      "        Return x**y (x to the power of y).\n",
      "    \n",
      "    prod(iterable, /, *, start=1)\n",
      "        Calculate the product of all the elements in the input iterable.\n",
      "        \n",
      "        The default start value for the product is 1.\n",
      "        \n",
      "        When the iterable is empty, return the start value.  This function is\n",
      "        intended specifically for use with numeric values and may reject\n",
      "        non-numeric types.\n",
      "    \n",
      "    radians(x, /)\n",
      "        Convert angle x from degrees to radians.\n",
      "    \n",
      "    remainder(x, y, /)\n",
      "        Difference between x and the closest integer multiple of y.\n",
      "        \n",
      "        Return x - n*y where n*y is the closest integer multiple of y.\n",
      "        In the case where x is exactly halfway between two multiples of\n",
      "        y, the nearest even value of n is used. The result is always exact.\n",
      "    \n",
      "    sin(x, /)\n",
      "        Return the sine of x (measured in radians).\n",
      "    \n",
      "    sinh(x, /)\n",
      "        Return the hyperbolic sine of x.\n",
      "    \n",
      "    sqrt(x, /)\n",
      "        Return the square root of x.\n",
      "    \n",
      "    tan(x, /)\n",
      "        Return the tangent of x (measured in radians).\n",
      "    \n",
      "    tanh(x, /)\n",
      "        Return the hyperbolic tangent of x.\n",
      "    \n",
      "    trunc(x, /)\n",
      "        Truncates the Real x to the nearest Integral toward 0.\n",
      "        \n",
      "        Uses the __trunc__ magic method.\n",
      "\n",
      "DATA\n",
      "    e = 2.718281828459045\n",
      "    inf = inf\n",
      "    nan = nan\n",
      "    pi = 3.141592653589793\n",
      "    tau = 6.283185307179586\n",
      "\n",
      "FILE\n",
      "    (built-in)\n",
      "\n",
      "\n"
     ]
    }
   ],
   "source": [
    "type(math)\n",
    "help(math)"
   ]
  },
  {
   "cell_type": "markdown",
   "metadata": {},
   "source": [
    "``math`` 모듈안에 상당히 많은 함수들이 제공되는 것을 볼수 있습니다.<br>\n",
    "모듈안에 포함된 함수를 호출(실행)하는 경우는 규칙이 있는데, 즉 함수의 이름을 ``math.factorial(3)``과 같이 ``모듈명.함수명()``으로 해야 합니다.<br>\n",
    "\n",
    "아래의 입력창에 실제로 ``math`` 모듈에 포함된 ``math.factorial(3)`` 및 다른 함수들을 실행해 보기 바랍니다.<br>"
   ]
  },
  {
   "cell_type": "code",
   "execution_count": 3,
   "metadata": {},
   "outputs": [
    {
     "data": {
      "text/plain": [
       "6"
      ]
     },
     "execution_count": 3,
     "metadata": {},
     "output_type": "execute_result"
    }
   ],
   "source": [
    "math.factorial(3)"
   ]
  },
  {
   "cell_type": "markdown",
   "metadata": {},
   "source": [
    "매번 모듈의 이름을 앞에 쓰는 작업이 귀찮다면, 보다 편리한 방안을 사용할 수 있습니다.<br>\n",
    "이 방법은 ``from _모듈이름_ import _함수이름_``과 같이, 사용하기 원하는 함수만 해당 모듈에서 불러온다는 의미입니다.<br>\n",
    "실제 ``math`` 모듈에서 앞서 살려본 ``factorial()`` 함수를 불러오는 예제는 다음과 같습니다.\n",
    "\n",
    "```python\n",
    "from math import factorial\n",
    "```\n",
    "\n",
    "이후로는 ``math.factorial(3)``처럼 모듈의 이름을 계속 입력하지 않고, 바로 ``factorial(3)``처럼 함수를 실행하는 것이 가능합니다.<br>\n",
    "\n",
    "아래의 입력창에 실제로 ``from math import factorial`` 구문과 ``factorial(3)`` 문장을 입력하여 실행해 보기 바랍니다."
   ]
  },
  {
   "cell_type": "code",
   "execution_count": 5,
   "metadata": {},
   "outputs": [
    {
     "data": {
      "text/plain": [
       "6"
      ]
     },
     "execution_count": 5,
     "metadata": {},
     "output_type": "execute_result"
    }
   ],
   "source": [
    "from math import factorial\n",
    "factorial(3)"
   ]
  },
  {
   "cell_type": "markdown",
   "metadata": {},
   "source": [
    "## 사용자 정의 모듈 활용방법 이해하기"
   ]
  },
  {
   "cell_type": "markdown",
   "metadata": {},
   "source": [
    "함수에서 사용자 정의 함수가 있는 것처럼, 모듈도 당연히 프로그래머가 직접 만들어서 본인이 재활용하거나 남에게 공유하는 것이 가능합니다.<br>\n",
    "방법은 어렵지 않으며, 일단 수업 내용기준으로 함수만을 대상으로 한다면, 다음의 단계를 따르면 됩니다.<br>\n",
    "\n",
    "``(a) 사용하고자 하는 모듈 이름으로 화일을 만들고 확장자를 .py로 합니다.``<br>\n",
    "``(b) 모듈안에 넣고자 하는 함수를 (a)에서 만든 화일에 포함 합니다.``<br>\n",
    "``(c) 앞서 math 모듈 및 math 모듈에 포함된 함수를 사용하는 방법을 동일하게 사용하여 사용자 정의 모듈 안의 함수를 사용합니다.``<br>\n",
    "\n",
    "이미 본 강의 자료에서 활용하기 위한 사용자 정의 모듈 샘플이 ``Step_08_SampleModule_convertor.py``로 제공 되었습니다.<br>\n",
    "본 강의 자료가 있는 디렉토리에서 해당 화일을 열어보면, 아래와 같이, 앞서 수업에서 작성한 ``convert_to_celsius()`` 함수 하나가 있는 것을 볼수 있습니다.<br>\n",
    "\n",
    "```python\n",
    "# Module name: Step_08_SampleModule_convertor\n",
    "# Written by: drsungwon@khu.ac.kr\n",
    "# Written data: 2018.07.07\n",
    "\n",
    "def convert_to_celsius(fahrenheit):\n",
    "    return (fahrenheit - 32) * 5/9\n",
    "```\n",
    "\n",
    "(c)에서 사용자 정의 모듈의 사용법은 Python에서 제공하는 모듈과 같다고 했으니, 다음의 문장들을 사용하면 된다는 의미겠지요?<br>\n",
    "\n",
    "```python\n",
    "# Method.1\n",
    "import Step_08_SampleModule_convertor\n",
    "Step_08_SampleModule_convertor.convert_to_celsius(212)\n",
    "\n",
    "# Method.2\n",
    "from Step_08_SampleModule_convertor import convert_to_celsius\n",
    "convert_to_celsius(212)\n",
    "```\n",
    "\n",
    "아래의 입력창에 실제로 문장을 입력하여 실행해 보기 바랍니다."
   ]
  },
  {
   "cell_type": "code",
   "execution_count": 12,
   "metadata": {},
   "outputs": [
    {
     "data": {
      "text/plain": [
       "100.0"
      ]
     },
     "execution_count": 12,
     "metadata": {},
     "output_type": "execute_result"
    }
   ],
   "source": [
    "import Step_08_SampleModule_convertor\n",
    "Step_08_SampleModule_convertor.convert_to_celsius(212)"
   ]
  },
  {
   "cell_type": "markdown",
   "metadata": {},
   "source": [
    "여러분이 직접 새로운 함수를 추가하고 실행해 보는 경험을 해봅시다.<br>\n",
    "즉, 다음처럼 화씨를 섭씨로 변환하는 ``convert_to_fahrenheit()`` 함수를 ``Step_08_SampleModule_convertor.py`` 모듈에 추가하고,<br>\n",
    "위의 예제처럼 직접 실행해 보도록 합니다.<br>\n",
    "\n",
    "```python\n",
    "def convert_to_fahrenheit(celsius):\n",
    "    return (celsius * 1.8) + 32\n",
    "```\n",
    "\n",
    "``Step_08_SampleModule_convertor.py`` 수정후, 아래의 입력창에 모듈을 다시 불러드린후, ``convert_to_fahrenheit()`` 함수를 실행해 보기 바랍니다."
   ]
  },
  {
   "cell_type": "code",
   "execution_count": 23,
   "metadata": {},
   "outputs": [
    {
     "ename": "ImportError",
     "evalue": "cannot import name 'convert_to_fahrenheit' from 'Step_08_SampleModule_convertor' (C:\\Users\\rmatl\\OneDrive\\문서\\GitHub\\WebPython\\Step_08_SampleModule_convertor.py)",
     "output_type": "error",
     "traceback": [
      "\u001b[1;31m---------------------------------------------------------------------------\u001b[0m",
      "\u001b[1;31mImportError\u001b[0m                               Traceback (most recent call last)",
      "\u001b[1;32m<ipython-input-23-5288ca3412f1>\u001b[0m in \u001b[0;36m<module>\u001b[1;34m\u001b[0m\n\u001b[1;32m----> 1\u001b[1;33m \u001b[1;32mfrom\u001b[0m \u001b[0mStep_08_SampleModule_convertor\u001b[0m \u001b[1;32mimport\u001b[0m \u001b[0mconvert_to_fahrenheit\u001b[0m\u001b[1;33m\u001b[0m\u001b[1;33m\u001b[0m\u001b[0m\n\u001b[0m\u001b[0;32m      2\u001b[0m \u001b[0mconvert_to_fahrenheit\u001b[0m\u001b[1;33m(\u001b[0m\u001b[1;36m100\u001b[0m\u001b[1;33m)\u001b[0m\u001b[1;33m\u001b[0m\u001b[1;33m\u001b[0m\u001b[0m\n",
      "\u001b[1;31mImportError\u001b[0m: cannot import name 'convert_to_fahrenheit' from 'Step_08_SampleModule_convertor' (C:\\Users\\rmatl\\OneDrive\\문서\\GitHub\\WebPython\\Step_08_SampleModule_convertor.py)"
     ]
    }
   ],
   "source": [
    "from Step_08_SampleModule_convertor import convert_to_fahrenheit\n",
    "convert_to_fahrenheit(100)"
   ]
  },
  {
   "cell_type": "markdown",
   "metadata": {},
   "source": [
    "마지막으로 사용자 정의 모듈의 경우도 앞서 설명한 유용한 기능인 ``type()``과 ``help()``를 사용할 수 있으니, 필요시 활용바랍니다."
   ]
  },
  {
   "cell_type": "markdown",
   "metadata": {},
   "source": [
    "## 유용한 모듈 활용하기"
   ]
  },
  {
   "cell_type": "markdown",
   "metadata": {},
   "source": [
    "**``random``**<br>\n",
    "Python 언어를 통하여 난수(random number)를 만들기 위하여 사용합니다.<br>\n",
    "자세한 설명은 < https://docs.python.org/3/library/random.html?highlight=random#module-random >를 참조합니다.<br>\n",
    "\n",
    "**``turtle``**<br>\n",
    "Python 언어를 통하여 간단한 그림을 그려보는 교육용 용도로 많이 사용합니다.<br>\n",
    "자세한 설명은 < https://docs.python.org/3/library/turtle.html?highlight=turtle#module-turtle >를 참조합니다.<br>\n",
    "다음은 ``turtle`` 모듈을 사용한 예제인데, 소스코드에서 이해가 안되는 부분이 일부 있겠지만, 아래의 입력창에서 입력후 실행해 보십시오.<br>\n",
    "특별히 ``from turtle import *``의 의미는 ``turtle`` 모듈의 모든 함수를 가져와서, 모듈명 없이 호출하겠다는 의미입니다.\n",
    "\n",
    "```python\n",
    "from turtle import *\n",
    "color('red', 'yellow')\n",
    "begin_fill()\n",
    "while True:\n",
    "    forward(200)\n",
    "    left(170)\n",
    "    if abs(pos()) < 1:\n",
    "        break\n",
    "end_fill()\n",
    "done()\n",
    "```\n",
    "\n",
    "아래의 입력창에 실제로 문장을 입력하여 실행해 보기 바랍니다."
   ]
  },
  {
   "cell_type": "code",
   "execution_count": 19,
   "metadata": {},
   "outputs": [],
   "source": [
    "from turtle import *\n",
    "color('red', 'yellow')\n",
    "begin_fill()\n",
    "while True:\n",
    "    forward(200)\n",
    "    left(170)\n",
    "    if abs(pos()) < 1:\n",
    "        break\n",
    "end_fill()\n",
    "done()"
   ]
  },
  {
   "cell_type": "markdown",
   "metadata": {},
   "source": [
    "# 실습 (LAB)"
   ]
  },
  {
   "cell_type": "markdown",
   "metadata": {},
   "source": [
    "``math`` 모듈의 함수를 이용하여, 다음의 작업을 한번에 (1)에서 (3)까지 수행하는 간단한 프로그램을 개발해 봅니다.<br>\n",
    "\n",
    "(1) 9의 제곱근을 계산하여 화면에 출력합니다.<br>\n",
    "(2) 변수 x를 16으로 정의하고, x의 제곱근을 화면에 출력합니다.<br>\n",
    "(3) 반지름이 5인 원의 넓이(= $pi * r^2$ (r: 원의 반지름))를 계산하여 화면에 출력합니다.<br>\n",
    "\n",
    "아래의 입력창에 실제로 문장을 입력하여 실행하십시오."
   ]
  },
  {
   "cell_type": "code",
   "execution_count": 24,
   "metadata": {},
   "outputs": [
    {
     "name": "stdout",
     "output_type": "stream",
     "text": [
      "3.0\n",
      "4.0\n",
      "31.41592653589793\n"
     ]
    }
   ],
   "source": [
    "import math\n",
    "\n",
    "#(1)\n",
    "print(math.sqrt(9))\n",
    "\n",
    "#(2)\n",
    "x = 16\n",
    "print(math.sqrt(x))\n",
    "\n",
    "#(3)\n",
    "r = 5\n",
    "print(math.pi * math.ldexp(r,1))"
   ]
  },
  {
   "cell_type": "code",
   "execution_count": null,
   "metadata": {},
   "outputs": [],
   "source": []
  }
 ],
 "metadata": {
  "kernelspec": {
   "display_name": "Python 3",
   "language": "python",
   "name": "python3"
  },
  "language_info": {
   "codemirror_mode": {
    "name": "ipython",
    "version": 3
   },
   "file_extension": ".py",
   "mimetype": "text/x-python",
   "name": "python",
   "nbconvert_exporter": "python",
   "pygments_lexer": "ipython3",
   "version": "3.8.8"
  }
 },
 "nbformat": 4,
 "nbformat_minor": 2
}
