{
 "cells": [
  {
   "cell_type": "markdown",
   "metadata": {},
   "source": [
    "# 수업 내용 이해"
   ]
  },
  {
   "cell_type": "markdown",
   "metadata": {},
   "source": [
    "컴퓨터를 통한 문제 해결을 위해서 우리는 정수, 실수, 문자열 등을 프로그램 실행중에 만들어서 사용하였다.<br>\n",
    "하지만 실제 큰 프로그램들은 수시간 수년동안 쌓여진 데이터를 취급하는 목적으로 사용하며, 이경우 컴퓨터의 전원이 꺼져도 유지되는 디스크의 화일 사용은 필수적인다.<br>\n",
    "본 수업에서는 어떻게 화일을 열고 닫으며, 내용을 읽고 쓰는지를 배운다.<br>\n",
    "하지만 본 수업에서는 화일에 대한 모든 것을 다룰수는 없다.<br>\n",
    "소프트웨어 전공 수업에는 ``화일 처리(File Structure)``라는 과목이 있으며, 이 수업에서 화일을 다루는 복잡한 많은 내용을 다루게 된다.<br>\n",
    "따라서 본 수업에서의 기초적인 지식을 토대로 추가적인 학습을 한다면, 본인의 프로그램이 디스트에 저장된 큰 화일을 처리하는 등의 목적을 이룰수 있다.<br>"
   ]
  },
  {
   "cell_type": "markdown",
   "metadata": {},
   "source": [
    "## 화일 열고 닫는 방법 이해하기"
   ]
  },
  {
   "cell_type": "markdown",
   "metadata": {},
   "source": [
    "Python과 같은 프로그래밍 언어에서는 화일을 열고 닫는 문법을 제공하는데, 연 화일은 반드시 닫아야 합니다.<br>\n",
    "열기만 하고 닫지 않은 화일은 프로그램의 동작시에 작업한 내용이 제대로 반영이 안되거니, 최악의 경우는 화일에 오류가 생겨서 사용이 불가할 수도 있습니다.<br>\n",
    "Python에서 화일을 여는 문법은 ``open()`` 함수이며, 반대로 닫는 문법은 ``close()`` 함수입니다.\n",
    "다음의 예제는 프로그램이 실행되는 디렉토리에 위치한 ``Step_13_SampleFile_score.csv`` 화일을 열고 닫는 예제입니다.<br>\n",
    "\n",
    "```python\n",
    "file = open('Step_13_SampleFile_score.csv', 'r')\n",
    "file.close()\n",
    "```\n",
    "\n",
    "첫번째 줄에서 볼 수 있듯이, ``open()`` 함수는 첫번째 입력 파라메타로 화일의 이름을 문자열로 받습니다.<br>\n",
    "두번째 입력 파라메타는 화일을 여는 용도를 의미하며 ``'r'``은 ``read-only``를 의미하여, 읽기만 하고 수정은 불가능하게 하겠다는 의미입니다.<br>\n",
    "쓰기가 가능한 옵션 등은 Python 언어의 화일 관련 설명인 < https://docs.python.org/3/tutorial/inputoutput.html#reading-and-writing-files > 등을 참조하기 바랍니다.<br>\n",
    "\n",
    "두번째 줄은 ``open()``으로 열었던 화일을 다시 닫는 문법을 의미합니다.<br>\n",
    "``open()``은 화일 Class에 대한 객체(Object)를 전달함으로, 우리는 ``file``이 멤버 Methods를 가질 것이라는 사실을 알수 있습니다.<br>\n",
    "따라서 화일 Class의 객체인 ``file``의 멤버 Methods인 ``close()`` 함수를 호출하여, 객체 ``file``이 연 ``Step_13_SampleFile_score.csv`` 화일을 닫습니다.<br>\n",
    "\n",
    "아래의 입력 창에 위의 코드를 입력해서 실제로 실행해 보기 바랍니다. "
   ]
  },
  {
   "cell_type": "code",
   "execution_count": 3,
   "metadata": {},
   "outputs": [],
   "source": [
    "file = open('Step_13_SampleFile_score.csv', 'r')\n",
    "file.close()"
   ]
  },
  {
   "cell_type": "markdown",
   "metadata": {},
   "source": [
    "## 화일의 내용을 통채로 읽는 방법 이해하기"
   ]
  },
  {
   "cell_type": "markdown",
   "metadata": {},
   "source": [
    "화일의 내용을 통채로 한번에 읽고 싶은 경우는 ``read()``를 사용하면 됩니다.<br>\n",
    "아래의 예제는 화일을 열고, 본문을 모두 읽어서 문자열인 ``contents``에 저장한 후, 이를 화면에 출력하는 것을 보여주는 예제입니다.<br>\n",
    "\n",
    "```python\n",
    "file = open('Step_13_SampleFile_score.csv', 'r')\n",
    "contents = file.read()\n",
    "print(contents)\n",
    "file.close()\n",
    "```\n",
    "\n",
    "아래의 입력 창에 위의 코드를 입력해서 실제로 실행해 보기 바랍니다. "
   ]
  },
  {
   "cell_type": "code",
   "execution_count": 4,
   "metadata": {},
   "outputs": [
    {
     "name": "stdout",
     "output_type": "stream",
     "text": [
      "ID,Python,C++,Javascript,Go\n",
      "20190001,A,A,A,A\n",
      "20190002,A,B,A,C\n",
      "20190003,C,B,C,A\n",
      "\n"
     ]
    }
   ],
   "source": [
    "file = open('Step_13_SampleFile_score.csv', 'r')\n",
    "contents = file.read()\n",
    "print(contents)\n",
    "file.close()"
   ]
  },
  {
   "cell_type": "markdown",
   "metadata": {},
   "source": [
    "## 테이블 형태의 텍스트 화일 이해하기"
   ]
  },
  {
   "cell_type": "markdown",
   "metadata": {},
   "source": [
    "위의 예제를 실행해 보면, ``Step_13_SampleFile_score.csv`` 화일에는 일종의 표가 있는 것을 알수 있습니다.<br>\n",
    "즉, 화일의 첫줄은 ``ID, Python, C++, Javascript, Go``라는 항목을 의미하고,<br>\n",
    "나머지 세줄은 각각 ``ID``가 ``20190001/20190002/20190003``인 학생의 각 프로그래밍 언어별 성적임을 알수 있습니다.<br>\n",
    "\n",
    "이렇듯이 확장자가 ``.csv``로 끝나는 화일은 텍스트 형태로 일종의 표를 저장하는 화일로서, <br>\n",
    "Microsoft Excel과 같은 스프레드 시트 프로그램에서 화일 저장시 옵션을 주어서 쉽게 만들수 있습니다.<br>\n",
    "반대로 프로램에서 이런 형태로 저장하면 스프레드 시트 프로그램 읽고 처리하는 것이 가능합니다.<br>"
   ]
  },
  {
   "cell_type": "markdown",
   "metadata": {},
   "source": [
    "## 개선된 화일 열고 닫는 방법 이해하기"
   ]
  },
  {
   "cell_type": "markdown",
   "metadata": {},
   "source": [
    "앞서에서 ``open()`` 함수와 ``close()`` 함수를 이용하여 화일을 열고 닫는 방법을 설명했습니다.<br>\n",
    "이렇게 두개의 함수를 사용하는 방법은 매우 단순하고 직관적이지만, 프로그래머가 깜빡 잊어서 ``close()`` 함수를 실행하지 않는 경우가 있습니다.<br>\n",
    "이런 오류를 피하기 위하여 Python에는 생소한 형태이지만 편리한 ``with`` 문법을 제공합니다.<br>\n",
    "\n",
    "아래 코드는 위의 ``화일의 내용을 통채로 읽는 방법 이해하기``에서 만든 프로그램과 동일한 프로그램을 ``with`` 문법을 사용하여 만든 예제입니다.<br>\n",
    "``file`` 객체로 ``Step_13_SampleFile_score.csv`` 여는 것에 문제 없다면, ``contents = file.read()`` 구문을 수행합니다.<br>\n",
    "화일을 열어서 해야할 작업을 마치면, 화일은 자동으로 닫히게 되므로, 별도의 ``close()`` 함수 호출은 필요 없습니다.<br>\n",
    "\n",
    "```python\n",
    "with open('Step_13_SampleFile_score.csv', 'r') as file:\n",
    "    contents = file.read()\n",
    "\n",
    "print(contents)\n",
    "```\n",
    "\n",
    "아래의 입력 창에 위의 코드를 입력해서 실제로 실행해 보기 바랍니다. "
   ]
  },
  {
   "cell_type": "code",
   "execution_count": 5,
   "metadata": {},
   "outputs": [
    {
     "name": "stdout",
     "output_type": "stream",
     "text": [
      "ID,Python,C++,Javascript,Go\n",
      "20190001,A,A,A,A\n",
      "20190002,A,B,A,C\n",
      "20190003,C,B,C,A\n",
      "\n"
     ]
    }
   ],
   "source": [
    "with open('Step_13_SampleFile_score.csv', 'r') as file:\n",
    "    contents = file.read()\n",
    "\n",
    "print(contents)"
   ]
  },
  {
   "cell_type": "markdown",
   "metadata": {},
   "source": [
    "## 화일 내용을 한줄씩 읽는 방법 이해하기"
   ]
  },
  {
   "cell_type": "markdown",
   "metadata": {},
   "source": [
    "화일 안의 데이터를 의미있게 사용하려면, 화일의 내용을 한줄씩 읽어서 프로그래밍을 하기 용이한 형태도 바꾸는 것이 일반적입니다.<br>\n",
    "앞서 ``Step_13_SampleFile_score.csv``도 자세히 살펴보면, 2차원 테이블 형태로, 한줄을 여러 5개의 아이템이 있는 리스트로 보는 것이 맞습니다.<br>\n",
    "따라서 화일은 Python 안에서 아이템을 5개 갖는 리스트들의 집합(``List in Lists``)으로 보면 의미있게 처리가 가능한 것입니다.<br>\n",
    "\n",
    "아래의 프로그램은 지금까지 수업에서 배운 문법을 모두 동원하여,<br>\n",
    "화일의 표를 프로그램 안에서 의미있게 활용 할 수 있는 리스트들의 집합(``List in Lists``) 형태로 변환하는 예제입니다.<br>\n",
    "\n",
    "``Point.1``로 명시한 부분은 앞서 ``for`` 반복문에서 사용한 문법와 유사한 의미를 갖는데,<br>\n",
    "``file``에서 한줄씩 읽어서 ``lineContent`` 문자열에 넣는다는 의미입니다.<br>\n",
    "\n",
    "``Point.1``로 명시한 부분이 복잡하게 느껴질 수 있지만, 하나 하나 읽다보면 크게 어렵지 않습니다.<br>\n",
    "\n",
    "첫번째로 ``lineContent.strip('\\n')``은 화일에서 읽은 한줄에서 ``'\\n'``를 제거하겠다는 의미입니다.<br>\n",
    "이는 텍스트 화일에서 줄이 바뀌는 부분에서 줄 바꿈 특수 기호인 ``'\\n'``이 삽입되는데, 이는 데이터의 원래 의미와 상관 없으므로 제거하는 것입니다.<br>\n",
    "\n",
    "두번째로 ``.split(',')``은 ``'\\n'``이 제거된 줄에서, 다시 ``,`` 기호로 나뉜 값들을 각각 아이템화 하여 새로운 리스트를 만드는 것입니다.<br>\n",
    "이렇게 함으로써 화일의 ``20190001,A,A,A,A``는 결국 다섯개의 아이템을 갖는 리스트로 변합니다.<br>\n",
    "\n",
    "마지막으로 화일에서 한둘을 읽어서 다섯개의 아이템을 갖는 리스트로 변환한 정보를 ``fileMatrix``에 추가하는 작업을 합니다.<br>\n",
    "\n",
    "이렇게 함으로서, 화일의 한줄이 리스트가 되어, 복수의 줄만큼의 리스트를 갖는 리스트들의 집합(``List in Lists``)을 만들어 냈습니다.<br>\n",
    "\n",
    "```python\n",
    "fileMatrix = []\n",
    "\n",
    "with open('Step_13_SampleFile_score.csv', 'r') as file:\n",
    "    for lineContent in file: # Point.1\n",
    "        fileMatrix.append(lineContent.strip('\\n').split(',')) # Point.2\n",
    "\n",
    "print(fileMatrix)\n",
    "```\n",
    "\n",
    "아래의 입력창에 직접 위의 프로그램을 입력하고 실행해보도록 합니다.<br>\n",
    "사용한 문자열 제어 함수가 잘 이해되지 않으면, <br>\n",
    "다시 한번 < https://docs.python.org/3/library/stdtypes.html#text-sequence-type-str > 등의 문자열 Methods에 대한 자료를 읽고 이해해 봅니다.<br>"
   ]
  },
  {
   "cell_type": "code",
   "execution_count": 7,
   "metadata": {},
   "outputs": [
    {
     "name": "stdout",
     "output_type": "stream",
     "text": [
      "[['ID', 'Python', 'C++', 'Javascript', 'Go'], ['20190001', 'A', 'A', 'A', 'A'], ['20190002', 'A', 'B', 'A', 'C'], ['20190003', 'C', 'B', 'C', 'A']]\n"
     ]
    }
   ],
   "source": [
    "fileMatrix = []\n",
    "\n",
    "with open('Step_13_SampleFile_score.csv', 'r') as file:\n",
    "    for lineContent in file: # Point.1\n",
    "        fileMatrix.append(lineContent.strip('\\n').split(',')) # Point.2\n",
    "\n",
    "print(fileMatrix)"
   ]
  },
  {
   "cell_type": "markdown",
   "metadata": {},
   "source": [
    "같은 기능을 하는 프로그램을 ``for`` 문법, ``open()`` 함수와 ``close()`` 함수로 구현한 예제가 다음과 같다.<br>\n",
    "새롭게 등장한 부분은 객체 Class의 멤버 Methods인 ``readline()`` 함수이다.<br>\n",
    "이 함수는 화일 객체로 부터 한줄을 읽어서 문자열로 돌려주는 기능을 한다.<br>\n",
    "\n",
    "```python\n",
    "fileMatrix = []\n",
    "\n",
    "file = open('Step_13_SampleFile_score.csv', 'r')\n",
    "\n",
    "lineContent = file.readline()\n",
    "\n",
    "while lineContent != '':\n",
    "    fileMatrix.append(lineContent.strip('\\n').split(','))\n",
    "    lineContent = file.readline()\n",
    "\n",
    "print(fileMatrix) \n",
    "file.close\n",
    "```\n",
    "\n",
    "아래의 입력창에 직접 위의 프로그램을 입력하고 실행해보도록 합니다.<br>"
   ]
  },
  {
   "cell_type": "code",
   "execution_count": 8,
   "metadata": {},
   "outputs": [
    {
     "name": "stdout",
     "output_type": "stream",
     "text": [
      "[['ID', 'Python', 'C++', 'Javascript', 'Go'], ['20190001', 'A', 'A', 'A', 'A'], ['20190002', 'A', 'B', 'A', 'C'], ['20190003', 'C', 'B', 'C', 'A']]\n"
     ]
    },
    {
     "data": {
      "text/plain": [
       "<function TextIOWrapper.close()>"
      ]
     },
     "execution_count": 8,
     "metadata": {},
     "output_type": "execute_result"
    }
   ],
   "source": [
    "fileMatrix = []\n",
    "\n",
    "file = open('Step_13_SampleFile_score.csv', 'r')\n",
    "\n",
    "lineContent = file.readline()\n",
    "\n",
    "while lineContent != '':\n",
    "    fileMatrix.append(lineContent.strip('\\n').split(','))\n",
    "    lineContent = file.readline()\n",
    "\n",
    "print(fileMatrix) \n",
    "file.close"
   ]
  },
  {
   "cell_type": "markdown",
   "metadata": {},
   "source": [
    "##  인터넷 화일을 읽어오는 방법 이해하기"
   ]
  },
  {
   "cell_type": "markdown",
   "metadata": {},
   "source": [
    "화일은 프로그램이 수행되는 컴퓨터 안에만 있는 것은 아입니다.<br>\n",
    "다음의 예제는 인터넷을 통해서 다른 웹사이트에 있는 화일을 열고, 해당 화일의 내용을 한줄씩 읽어서 화면에 출력하고, 화일을 닫는 예제입니다.<br>\n",
    "\n",
    "```python\n",
    "import urllib.request\n",
    "url = \"http://robjhyndman.com/tsdldata/ecology1/hopedale.dat\"\n",
    "webpage = urllib.request.urlopen(url)\n",
    "for line in webpage:\n",
    "    line = line.strip()\n",
    "    line = line.decode('utf-8')\n",
    "    print(line)\n",
    "webpage.close()\n",
    "```\n",
    "\n",
    "배우지 않은 부분이 있지만, 수업의 후반부에서 웹에 대한 내용을 배울 예정이므로, 아래의 입력창에 직접 위의 프로그램을 입력하고 실행해보도록 합니다.<br>"
   ]
  },
  {
   "cell_type": "code",
   "execution_count": 10,
   "metadata": {},
   "outputs": [
    {
     "name": "stdout",
     "output_type": "stream",
     "text": [
      "Coloured fox fur production, HOPEDALE, Labrador,, 1834-1925\n",
      "#Source: C. Elton (1942) \"Voles, Mice and Lemmings\", Oxford Univ. Press\n",
      "#Table 17, p.265--266\n",
      "22\n",
      "29\n",
      "2\n",
      "16\n",
      "12\n",
      "35\n",
      "8\n",
      "83\n",
      "166\n",
      "62\n",
      "77\n",
      "42\n",
      "54\n",
      "56\n",
      "5\n",
      "9\n",
      "78\n",
      "151\n",
      "27\n",
      "14\n",
      "71\n",
      "261\n",
      "22\n",
      "3\n",
      "16\n",
      "70\n",
      "7\n",
      "2\n",
      "26\n",
      "27\n",
      "35\n",
      "9\n",
      "11\n",
      "73\n",
      "39\n",
      "22\n",
      "41\n",
      "31\n",
      "60\n",
      "7\n",
      "28\n",
      "43\n",
      "17\n",
      "26\n",
      "35\n",
      "60\n",
      "75\n",
      "18\n",
      "58\n",
      "38\n",
      "28\n",
      "26\n",
      "29\n",
      "43\n",
      "16\n",
      "40\n",
      "25\n",
      "28\n",
      "12\n",
      "22\n",
      "13\n",
      "52\n",
      "90\n",
      "103\n",
      "15\n",
      "26\n",
      "29\n",
      "102\n",
      "31\n",
      "9\n",
      "33\n",
      "90\n",
      "95\n",
      "17\n",
      "35\n",
      "59\n",
      "115\n",
      "12\n",
      "26\n",
      "38\n",
      "202\n",
      "25\n",
      "83\n",
      "92\n",
      "58\n",
      "0\n",
      "19\n",
      "63\n",
      "108\n",
      "25\n",
      "38\n",
      "231\n"
     ]
    }
   ],
   "source": [
    "import urllib.request\n",
    "url = \"http://robjhyndman.com/tsdldata/ecology1/hopedale.dat\"\n",
    "webpage = urllib.request.urlopen(url)\n",
    "for line in webpage:\n",
    "    line = line.strip()\n",
    "    line = line.decode('utf-8')\n",
    "    print(line)\n",
    "webpage.close()"
   ]
  },
  {
   "cell_type": "markdown",
   "metadata": {},
   "source": [
    "## 기존 화일에 추가하는 방법 이해하기"
   ]
  },
  {
   "cell_type": "markdown",
   "metadata": {},
   "source": [
    "기존 화일의 내용을 그대로 둔채 마지막 부분에 추가적인 정보를 추가하는 경우는, ``open()``의 옵션을 앞서의 ``r``이 아닌 ``a``를 줍니다.<br>\n",
    "``a`` 옵션의 의미는 ``append``로서, 기존 화일의 끝에 새로운 정보를 추가하게 됩니다.<br>\n",
    "앞서의 ''Step_13_SampleFile_score.csv'' 화일에 정보를 정보를 추가하는 화일은 다음과 같습니다.<br>\n",
    "\n",
    "```python\n",
    "with open('Step_13_SampleFile_score.csv', 'r') as file:\n",
    "    contents = file.read()\n",
    "print(\"[Before append]\")\n",
    "print(contents)\n",
    "\n",
    "with open('Step_13_SampleFile_score.csv', 'a') as file: # Point.1\n",
    "    file.write(\"20190004,B,B,B,B\\n\") # Point.2\n",
    "    \n",
    "with open('Step_13_SampleFile_score.csv', 'r') as file:\n",
    "    contents = file.read()\n",
    "print(\"[After append]\")\n",
    "print(contents)\n",
    "```\n",
    "\n",
    "위의 코드에서 ``Point.1``과 같이 화일을 열때 ``a`` 옵션으로 여는 것을 볼수 있습니다.<br>\n",
    "그리고 ``Point.2``에서 새롭게 등장한 함수 ``write()``는 이름 그대로 주어진 문자열을 화일에 저장하는 역할을 합니다.<br>\n",
    "이 두줄을 제외한 코드는 화일에 정보를 추가하기 전과 후의 내용을 보기 위한 코드이며, 이미 설명한 내용들로 이루어져 있습니다.<br>\n",
    "\n",
    "위의 프로그램을 아래의 입력창에서 직접 입력하고 실행해 보기 바랍니다."
   ]
  },
  {
   "cell_type": "code",
   "execution_count": 11,
   "metadata": {},
   "outputs": [
    {
     "name": "stdout",
     "output_type": "stream",
     "text": [
      "[Before append]\n",
      "ID,Python,C++,Javascript,Go\n",
      "20190001,A,A,A,A\n",
      "20190002,A,B,A,C\n",
      "20190003,C,B,C,A\n",
      "\n",
      "[After append]\n",
      "ID,Python,C++,Javascript,Go\n",
      "20190001,A,A,A,A\n",
      "20190002,A,B,A,C\n",
      "20190003,C,B,C,A\n",
      "20190004,B,B,B,B\n",
      "\n"
     ]
    }
   ],
   "source": [
    "with open('Step_13_SampleFile_score.csv', 'r') as file:\n",
    "    contents = file.read()\n",
    "print(\"[Before append]\")\n",
    "print(contents)\n",
    "\n",
    "with open('Step_13_SampleFile_score.csv', 'a') as file: # Point.1\n",
    "    file.write(\"20190004,B,B,B,B\\n\") # Point.2\n",
    "\n",
    "with open('Step_13_SampleFile_score.csv', 'r') as file:\n",
    "    contents = file.read()\n",
    "print(\"[After append]\")\n",
    "print(contents)"
   ]
  },
  {
   "cell_type": "markdown",
   "metadata": {},
   "source": [
    "## 신규 화일에 출력하는 방법 이해하기 (``csv`` 모듈 활용 포함)"
   ]
  },
  {
   "cell_type": "markdown",
   "metadata": {},
   "source": [
    "완전히 새로운 화일을 출력 용도로 필요로 하는 경우가 있으면, ``open()``의 옵션으로 ``w``를 줍니다.<br>\n",
    "``w`` 옵션의 의미는 ``write``로서, 기존에 동일한 이름의 화일이 있다면, 이를 제거하고 새롭게 빈 화일을 출력 전용으로 만들게 됩니다.<br>\n",
    "학교에 새로운 언어에 대한 교육과정이 개설되었고, 기존의 학생들도 새롭게 이수를 해야 한다고 가정합니다.<br>\n",
    "이미 학생들이 있고, 학생들이 이수한 과목과 성적이 있으므로, 이 정보들은 모두 유지되어야 합니다.<br>\n",
    "\n",
    "따라서 기존 화일을 열어서, 기존 학생의 학번과 이미 이수한 과목과 성적 점수는 유지하되,<br>\n",
    "새롭게 생성된 과목의 column을 학생별로 추가하고, 일단 이수를 하지 않았으니 성적은 미정으로 명시하고자 합니다.<br>\n",
    "이 경우 ``Step_13_SampleFile_score.csv`` 화일에 새로운 필드인 HTML5와 CSS3를 추가하려면, ``append`` 로는 안되기에 새롭게 출력 화일을 만들어야 합니다.<br>\n",
    "\n",
    "아래의 프로그램은 이처럼, ``Step_13_SampleFile_score.csv`` 화일을 입력 용도로 활용하여, 기존 학생들의 정보를 읽어 들인후,<br>\n",
    "``Step_13_SampleFile_newScore.csv`` 화일을 출력 용도로 하여, 새로운 과목을 반영한 형태로 저장하게 됩니다.\n",
    "\n",
    "```python\n",
    "import csv\n",
    "\n",
    "fileMatrix = []\n",
    "\n",
    "with open('Step_13_SampleFile_score.csv', 'r') as fileRead:\n",
    "    for lineContent in fileRead: \n",
    "        fileMatrix.append(lineContent.strip('\\n').split(',')) \n",
    "\n",
    "print(\"[Before]\")\n",
    "print(fileMatrix)          \n",
    "        \n",
    "fileMatrix[0].extend([\"HTML5\", \"CSS3\"])\n",
    "  \n",
    "lenFileMatrix = len(fileMatrix)\n",
    "   \n",
    "for i in range(lenFileMatrix - 1):\n",
    "    i = i + 1\n",
    "    fileMatrix[i].extend([\"_\", \"_\"])\n",
    "    \n",
    "print(\"[After]\")\n",
    "print(fileMatrix) \n",
    "\n",
    "with open('Step_13_SampleFile_newScore.csv', 'w') as fileWrite:\n",
    "    myWriter = csv.writer(fileWrite)\n",
    "    for i in range(lenFileMatrix): \n",
    "        myWriter.writerow(fileMatrix[i]) \n",
    "```\n",
    "\n",
    "처음 접하는 사람이 편하게 이해하기 위하여, 비교적 많은 라인이 추가되었는데요. <br>\n",
    "지금까지 위에서 설명한 모든 내용을 포함해서, 위의 프로그램을 천천히 위에서 아래 한줄 한줄 설명을 할테니, 잘 이해해 보기 바랍니다.<br>\n",
    "\n",
    "특별히 ``csv`` 화일 형태는 자주 사용하는 지라, Python은 이미 ``csv`` 화일처리를 위한 기능을 별도의 ``csv`` 모듈로 제공하는데, 이를 사용해 봅니다.<br>\n",
    "줄의 시작은 줄별로 설명을 편히 하기 위하여 줄번호로 하였으니, 참조하세요.<br>\n",
    "\n",
    "``01 import csv``<br>\n",
    "2차원 형태의 표로 정형화된 데이터(= 행렬)는 데이터 사이언스 분야의 가장 기초가 되는 정보 형태입니다.<br>\n",
    "따라서 Python은 언어에서 기본적으로 csv 형태의 화일을 다루는 모듈이 이름 그대로 ``csv 모듈``로 제공되고 있습니다.<br>\n",
    "많은 기능을 제공하는데 구체적인 부분은 < https://docs.python.org/3/library/csv.html >를 참조하기 바랍니다.<br>\n",
    "이 프로그램에서 ``csv 모듈``을 쓰는 이유는 하나입니다.<br>\n",
    "앞서 ``csv`` 화일을 열어서 한줄의 문자열을 다루기 용이한 리스트로 바꾸기 위하여 많은 작업을 했는데(아래 3~5번 줄), 반대의 작업을 하려니 귀찮은 거죠.<br>\n",
    "따라서 리스트를 다시 문자열로 만들어서 저장하려는 작업을 기존의 ``csv 모듈`` 기능을 활용(아래 15~18번 줄(하여 쉽게 하고자 할 뿐입니다.<br>\n",
    "관심이 있다면, ``csv 모듈``의 화일 열기 기능을 활용하여 아래 3~5번 줄도 보다 쉽게 할 수 있으니 시도해 보기 바랍니다.<br>\n",
    "\n",
    "``02 fileMatrix = []``<br>\n",
    "화일은 결국 프로그램에서 동적으로 다루는 데이터로 다루어 지며, 2차원의 테이블 형태를 유지하기 위하여, List in Lists로 처리합니다.<br>\n",
    "따라서 아무런 정보가 없는 리스트를 fileMatrix라는 이름으로 미리 만듭니다.<br>\n",
    "\n",
    "``03 with open('Step_13_SampleFile_score.csv', 'r') as fileRead:``<br>\n",
    "프로그램이 실행되는 디렉토리에서 ``Step_13_SampleFile_score.csv``을 찾아서, 읽기 전용 모드(``r``)로 엽니다.<br>\n",
    "실제 프로그램에서는 이 화일을 ``fileRead``라는 화일 Class의 객체로 다루게 됩니다.<br>\n",
    "``with`` 명령은 화일의 ``close()``를 자동으로 실행하기에 화일을 다루는데 안전한 환경을 제공합니다.<br>\n",
    "이제 성공적으로 화일을 열었다면, ``:``에 속한 하위 문장들을 수행할 수 있습니다.<br>\n",
    "\n",
    "``04     for lineContent in fileRead: ``<br>\n",
    "입력 화일인 ``fileRead`` 객체에서 한줄 한줄을 읽어서 ``lineContent``에 문자열의 형태로 저장하게 됩니다.<br>\n",
    "마지막 줄을 읽고나면 더 읽은 정보가 없기에, ``for`` 구문이 종료하게 됩니다.<br>\n",
    "\n",
    "``05         fileMatrix.append(lineContent.strip('\\n').split(',')) ``<br>\n",
    "처음 보면 복잡해 보이지만, 하나 하나 뜯어보면 별것 없습니다.<br>\n",
    "먼저 화일에서 읽어온 ``lineContent``는 문자열로서, 리스트로 바꾸기 위해서는 변환이 필요합니다.<br>\n",
    "가장 먼저 해야할 일은 화일에 저장하기 위하여, 줄마다 추가한 줄바꿈 기호(``\"\\n\"``)를 읽어들이는 줄마다 제거하는 것입니다.<br>\n",
    "이를 위한 코드가 ``strip('\\n')`` 입니다.<br>\n",
    "따라서 읽어드린 한줄의 마지막 부분의 ``\"\\n\"``을 제거해야 하므로 ``lineContent.strip('\\n')``이 됩니다.<br>\n",
    "이렇게 만든후, 다시 문자열에 쉼표(``\",\"``)로 나뉜 아이템들을 리스트로 변환하여야 하므로, ``split(',')`` 함수를 실행합니다.<br>\n",
    "이렇게 모든 과정을 마치면 리스트에 아이템들이 채워지게 되는 형태가 되고, 이 리스트를 앞서의 ``fileMatrix``에 추가합니다.<br>\n",
    "반복 작업을 하면서, 결국 화일의 한줄은 한명의 성적에 해당하는 리스트로 변환되어, 최종 테이블에 추가되는 셈입니다.<br>\n",
    "\n",
    "``06 print(\"[Before]\")``<br>\n",
    "``07 print(fileMatrix)  ``<br>      \n",
    "제대로 화일의 정보가 ``List in Lists``의 형태로 변환이 되었는지 화면에 출력해 봅니다.<br>\n",
    "        \n",
    "``08 fileMatrix[0].extend([\"HTML5\", \"CSS3\"])``<br>\n",
    "우리가 작업을 하는 목적은 기존 과목에 추가로 두개의 과목인 ``HTML5``와 ``CSS3``가 추가된 것이므로,<br>\n",
    "제일 먼저 테이블의 첫번째 줄(인덱스가 0인 리스트)에 과목명을 추가하게 됩니다.<br>\n",
    "  \n",
    "``09 lenFileMatrix = len(fileMatrix)``<br>\n",
    "다음은 기존의 학생들에게 새로운 과목의 성적은 아직 없으니, 공란을 추가해야 합니다.<br>\n",
    "그런데 학생이 몇명인지를 알아야지, 학생들만큼의 정보에 새로운 과목의 성적을 넣을수 있을테니, 전체 학생수를 계산합니다.<br>\n",
    "여기에는 한가지 주의할 사항이 있습니다.<br>\n",
    "맨 첫째줄은 과목명이 있으므로, 실제 학생수는 위의 계산 값보다 하나 작다는 점입니다.<br>\n",
    "그래서 아래의 10번 중에서 계산한 학생수에서 하나 적은 만큼의 반복을 하게 됩니다.<br>\n",
    "   \n",
    "``10 for i in range(lenFileMatrix - 1):``<br>\n",
    "``11     i = i + 1``<br>\n",
    "``12     fileMatrix[i].extend([\"_\", \"_\"])``<br>\n",
    "이 세줄은 한번에 설명하는게 맞을것 같네요.<br>\n",
    "먼저 10번줄은 첫번째 줄이 과목명을 표현하기에 하나 줄여서 학생수 만큼만 반복하겠다는 의미입니다.<br>\n",
    "그런데 10번줄의 ``i``값이 0에서 시작하므로, <br>\n",
    "우리는 학생에 대한 줄만 다루기 위하여 11번 줄에서 학생 정보의 시작줄인 1번째 리스트부터 작업을 하기 위해서 ``i`` 값을 하나 증가합니다.<br>\n",
    "12번째 줄에서는 각각의 학생 정보를 갖는 리스트의 마지막에 신규 두과목에 대한 성적을 공란으로 추가하는 작업입니다.<br>\n",
    "신규 과목의 성적을 리스트로 표현했으니, 기존 학생의 성적 리스트에 병합하기 위해서 ``extend()`` 함수를 사용한 것입니다.<br>\n",
    "    \n",
    "``13 print(\"[After]\")``<br>\n",
    "``14 print(fileMatrix) ``<br>\n",
    "제대로 신규 두과목의 이름과 각 학생별 성적을 추가했는지를 화면에 출력해 봅니다.<br>\n",
    "\n",
    "``15 with open('Step_13_SampleFile_newScore.csv', 'w') as fileWrite:``<br>\n",
    "마지막으로 제대로 만들어진 새로운 성적 테이블을 ``Step_13_SampleFile_newScore.csv``라는 이름의 화일로 저장합니다.<br>\n",
    "저장 용도의 ``open() 함수`` 옵션인 ``'w'``를 주어서, 기존에 동일 이름의 화일이 있다면, 내용을 모두 없애고, 새롭게 화일을 열게 됩니다.<br>\n",
    "그리고 프로그램 속에서 이 화일을 다루는 화일 Class 객체인 ``fileWrite``를 만듭니다.<br>\n",
    "\n",
    "``16     myWriter = csv.writer(fileWrite)``<br>\n",
    "이 부분이 우리가 ``csv 모듈``을 ``import``한 이유입니다.<br>\n",
    "다시 5번째 줄의 작업을 역순으로 하려니 귀찮아 진겁니다.<br>\n",
    "따라서 이미 csv 화일 형태로 리스트를 자동으로 저장하는 기능을 사용하기로 했는데, 이 함수가 ``csv 모듈``내의 ``writer() 함수`` 입니다.<br>\n",
    "``csv`` 형태의 화일로 주어진 화일을 취급하겠다는 의미의 문장으로서, 이제 우리는 ``fileWrite 객체`` 대신 ``csv 모듈``이 대신 작업해 주는 ``myWriter``를 만듭니다.<br>\n",
    "\n",
    "``17     for i in range(lenFileMatrix): ``<br>\n",
    "이 문장은 단순히 결과 테이블의 리스트(줄) 갯수 만큼 반복을 수행하기 위한 반복문 입니다.\n",
    "\n",
    "``18         myWriter.writerow(fileMatrix[i])  ``<br>  \n",
    "단순하지만, 편리한 줄입니다. 이제 결과값을 가지는 ``List in Lists`` 형태의 ``fileMatrix``에서 한줄 한줄씩을 ``csv`` 형태의 화일로 저장합니다.<br>\n",
    "따라서, 자동으로 리스트의 정보들 사이에 ``\",\"``점을 넣고, 문자열로 변환하여, ``csv``  화일에 저장하는 역항을 해줍니다.<br>\n",
    "\n",
    "이제 프로그램은 종료되었습니다.<br>\n",
    "``with`` 문법을 사용하였기에, 별도의 화일을 닫는 목적의 ``close() 함수`` 호출은 없습니다.<br>\n",
    "\n",
    "이제 프로그램에 대한 이해도 마쳤으니, 실제로 프로그램을 아래의 입력창에 입력하고 실행해 봅니다.<br>\n",
    "``csv`` 화일들이 제대로 만들어 졌는지도, 화일을 열어서 확인해 봅니다.<br>"
   ]
  },
  {
   "cell_type": "code",
   "execution_count": 12,
   "metadata": {},
   "outputs": [
    {
     "name": "stdout",
     "output_type": "stream",
     "text": [
      "[Before]\n",
      "[['ID', 'Python', 'C++', 'Javascript', 'Go'], ['20190001', 'A', 'A', 'A', 'A'], ['20190002', 'A', 'B', 'A', 'C'], ['20190003', 'C', 'B', 'C', 'A'], ['20190004', 'B', 'B', 'B', 'B']]\n",
      "[After]\n",
      "[['ID', 'Python', 'C++', 'Javascript', 'Go', 'HTML5', 'CSS3'], ['20190001', 'A', 'A', 'A', 'A', '_', '_'], ['20190002', 'A', 'B', 'A', 'C', '_', '_'], ['20190003', 'C', 'B', 'C', 'A', '_', '_'], ['20190004', 'B', 'B', 'B', 'B', '_', '_']]\n"
     ]
    }
   ],
   "source": [
    "import csv\n",
    "\n",
    "fileMatrix = []\n",
    "\n",
    "with open('Step_13_SampleFile_score.csv', 'r') as fileRead:\n",
    "    for lineContent in fileRead: \n",
    "        fileMatrix.append(lineContent.strip('\\n').split(',')) \n",
    "\n",
    "print(\"[Before]\")\n",
    "print(fileMatrix)          \n",
    "\n",
    "fileMatrix[0].extend([\"HTML5\", \"CSS3\"])\n",
    "\n",
    "lenFileMatrix = len(fileMatrix)\n",
    "\n",
    "for i in range(lenFileMatrix - 1):\n",
    "    i = i + 1\n",
    "    fileMatrix[i].extend([\"_\", \"_\"])\n",
    "\n",
    "print(\"[After]\")\n",
    "print(fileMatrix) \n",
    "\n",
    "with open('Step_13_SampleFile_newScore.csv', 'w') as fileWrite:\n",
    "    myWriter = csv.writer(fileWrite)\n",
    "    for i in range(lenFileMatrix): \n",
    "        myWriter.writerow(fileMatrix[i]) "
   ]
  },
  {
   "cell_type": "markdown",
   "metadata": {},
   "source": [
    "# 실습 (LAB)"
   ]
  },
  {
   "cell_type": "markdown",
   "metadata": {},
   "source": [
    "## 화일의 내용을 통채로 읽는 방법 실습하기"
   ]
  },
  {
   "cell_type": "markdown",
   "metadata": {},
   "source": [
    "다음의 요구 사항에 맞는 프로그램을 개발하여 아래의 입력창을 통해서 실행합니다.<br>\n",
    "\n",
    "(a) 본 자료와 함께 배포한 ``Step_13_SampleFile_lab.csv 화일``을 읽기 전용 모드로 엽니다.<br>\n",
    "(b) 화일의 모든 내용을 ``read() 함수``로 읽습니다.<br>\n",
    "(c) 화일의 내용을 화면에 출력합니다.<br>\n",
    "(d) 화일을 닫습니다.<br>"
   ]
  },
  {
   "cell_type": "code",
   "execution_count": 13,
   "metadata": {},
   "outputs": [
    {
     "name": "stdout",
     "output_type": "stream",
     "text": [
      "ID,Python,C++,Javascript,Go\n",
      "20190001,A,A,A,A\n",
      "20190002,A,B,A,C\n",
      "20190003,C,B,C,A\n",
      "\n"
     ]
    }
   ],
   "source": [
    "file = open('Step_13_SampleFile_lab.csv','r')\n",
    "content=file.read()\n",
    "print(content)\n",
    "file.close()"
   ]
  },
  {
   "cell_type": "markdown",
   "metadata": {},
   "source": [
    "## 화일의 내용을 통채로 읽은 후 필요 없는 정보 제거하는 방법 실습하기"
   ]
  },
  {
   "cell_type": "markdown",
   "metadata": {},
   "source": [
    "다음의 요구 사항에 맞는 프로그램을 개발하여 아래의 입력창을 통해서 실행합니다.<br>\n",
    "\n",
    "(a) 본 자료와 함께 배포한 ``Step_13_SampleFile_lab.csv 화일``을 읽기 전용 모드로 엽니다.<br>\n",
    "(b) 화일의 모든 내용을 ``readlines() 함수``로 읽습니다. \n",
    "(주의: ``readline()``이 아님, ``readlines()``는 화일의 한줄을 문자열로 갖는 리스트를 만듬)<br>\n",
    "(c) 화일의 내용을 한줄씩 화면에 출력합니다. 이때 각각의 줄에서 줄바꿈 기호(``\"\\n\"``)를 제거하고 출력합니다. \n",
    "(주의: ``for`` 반복문과 ``strip() 함수``를 쓰면 됨)<br>\n",
    "(d) 화일을 닫습니다.<br>"
   ]
  },
  {
   "cell_type": "code",
   "execution_count": 15,
   "metadata": {},
   "outputs": [
    {
     "name": "stdout",
     "output_type": "stream",
     "text": [
      "ID,Python,C++,Javascript,Go\n",
      "20190001,A,A,A,A\n",
      "20190002,A,B,A,C\n",
      "20190003,C,B,C,A\n"
     ]
    }
   ],
   "source": [
    "file = open('Step_13_SampleFile_lab.csv','r')\n",
    "content=file.readlines()\n",
    "for linecontent in content:\n",
    "    print(linecontent.strip('\\n'))\n",
    "file.close()"
   ]
  },
  {
   "cell_type": "markdown",
   "metadata": {},
   "source": [
    "## ``csv 모듈`` 함수를 이용한 화일의 읽고 쓰기 실습하기"
   ]
  },
  {
   "cell_type": "markdown",
   "metadata": {},
   "source": [
    "앞의 ``신규 화일에 출력하는 방법 이해하기 (csv 모듈 활용 포함)``에서 만든 프로그램을 개선해 봅니다.<br>\n",
    "즉, 화일을 여는 시점부터 ``csv`` 모듈의 함수를 사용합니다.<br>\n",
    "이 경우 (아마도 이 프로그램에서 제일 복잡한) 5번줄을 ``csv`` 모듈의 함수로 변경하면 됩니다.<br>\n",
    "위의 ``csv`` 모듈 설명 사이트를 방문하여, 화일을 열때 사용하는 ``csv.reader() 함수``를 이해한 후, 위의 프로그램에 적용해 보기 바랍니다.<br>\n",
    "\n",
    "이렇게 만든 프로그램을 아래의 입력창을 통해서 실행합니다.<br>"
   ]
  },
  {
   "cell_type": "code",
   "execution_count": 17,
   "metadata": {},
   "outputs": [
    {
     "name": "stdout",
     "output_type": "stream",
     "text": [
      "[After]\n",
      "[['ID', 'Python', 'C++', 'Javascript', 'Go', 'HTML5', 'CSS3'], ['20190001', 'A', 'A', 'A', 'A', '_', '_'], ['20190002', 'A', 'B', 'A', 'C', '_', '_'], ['20190003', 'C', 'B', 'C', 'A', '_', '_']]\n"
     ]
    }
   ],
   "source": [
    "import csv\n",
    "\n",
    "fileMatrix = []\n",
    "\n",
    "file = open('Step_13_SampleFile_lab.csv','r')\n",
    "lines = csv.reader(file)\n",
    "for line in lines:\n",
    "    fileMatrix.append(line)\n",
    "\n",
    "fileMatrix[0].extend([\"HTML5\", \"CSS3\"])\n",
    "\n",
    "lenFileMatrix = len(fileMatrix)\n",
    "\n",
    "for i in range(lenFileMatrix - 1):\n",
    "    i = i + 1\n",
    "    fileMatrix[i].extend([\"_\", \"_\"])\n",
    "\n",
    "print(\"[After]\")\n",
    "print(fileMatrix) \n",
    "\n",
    "with open('Step_13_SampleFile_newScore.csv', 'w') as fileWrite:\n",
    "    myWriter = csv.writer(fileWrite)\n",
    "    for i in range(lenFileMatrix): \n",
    "        myWriter.writerow(fileMatrix[i])     "
   ]
  },
  {
   "cell_type": "code",
   "execution_count": null,
   "metadata": {},
   "outputs": [],
   "source": []
  }
 ],
 "metadata": {
  "kernelspec": {
   "display_name": "Python 3",
   "language": "python",
   "name": "python3"
  },
  "language_info": {
   "codemirror_mode": {
    "name": "ipython",
    "version": 3
   },
   "file_extension": ".py",
   "mimetype": "text/x-python",
   "name": "python",
   "nbconvert_exporter": "python",
   "pygments_lexer": "ipython3",
   "version": "3.8.8"
  }
 },
 "nbformat": 4,
 "nbformat_minor": 2
}
