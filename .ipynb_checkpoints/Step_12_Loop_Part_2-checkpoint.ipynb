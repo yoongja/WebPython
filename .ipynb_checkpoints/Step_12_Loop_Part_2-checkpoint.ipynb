{
 "cells": [
  {
   "cell_type": "markdown",
   "metadata": {},
   "source": [
    "# 수업 내용 이해"
   ]
  },
  {
   "cell_type": "markdown",
   "metadata": {},
   "source": [
    "앞서 ``for`` 문법을 사용한 반복문에 이어서, 본 수업은 ``while`` 문번을 사용한 반복문에 대해서 배우도록 합니다.<br>\n",
    "``for`` 문법이 주로 리스트나 ``range()`` 함수에 의하여 만들어지는 값을 가지고 반복적인 작업을 수행했다면,<br>\n",
    "``while`` 문법은 앞서 Boolean 문법과 조건문에서 배웠던 ``True`` 혹은 ``False``에 기반한 반복문의 수행을 실현합니다."
   ]
  },
  {
   "cell_type": "markdown",
   "metadata": {},
   "source": [
    "## ``while`` 문법을 이용한 반복문 이해하기"
   ]
  },
  {
   "cell_type": "markdown",
   "metadata": {},
   "source": [
    "구구단에서 자주 접했던 다음의 ``for``문을 이용한 반복작업을 ``while``문을 이용한 형태로 변형하면 아래와 같습니다.<br>\n",
    "\n",
    "```python\n",
    "# for statement\n",
    "for i in [1,2,3,4,5,6,7,8,9] :\n",
    "    print(i)\n",
    "```\n",
    "\n",
    "```python\n",
    "# while statement\n",
    "i = 1\n",
    "while i <= 9 :\n",
    "    print(i)\n",
    "    i = i + 1\n",
    "```\n",
    "\n",
    "위의 프로그램에서 핵심은 ``while i <= 9 :``이며, 조건 ``i <= 9``가 ``True``라면, ``:`` 이후에 종속된 문장(들)을 반복적으로 수행합니다.<br>\n",
    "만약 반복중에 ``i <= 9``가 ``False``가 되면, ``while``을 통한 반복을 중단하고, ``while`` 구문 이후의 문장을 수행하게 됩니다.<br>\n",
    "\n",
    "위의 프로그램 예제는 간단하지만, 아래의 입력창에 각각을 직접 입력하고 실행하여 보도록 합니다."
   ]
  },
  {
   "cell_type": "code",
   "execution_count": 1,
   "metadata": {},
   "outputs": [
    {
     "name": "stdout",
     "output_type": "stream",
     "text": [
      "1\n",
      "2\n",
      "3\n",
      "4\n",
      "5\n",
      "6\n",
      "7\n",
      "8\n",
      "9\n",
      "1\n",
      "2\n",
      "3\n",
      "4\n",
      "5\n",
      "6\n",
      "7\n",
      "8\n",
      "9\n"
     ]
    }
   ],
   "source": [
    "# for statement\n",
    "for i in [1,2,3,4,5,6,7,8,9] :\n",
    "    print(i)\n",
    "# while statement\n",
    "i = 1\n",
    "while i <= 9 :\n",
    "    print(i)\n",
    "    i = i + 1"
   ]
  },
  {
   "cell_type": "markdown",
   "metadata": {},
   "source": [
    "## 무한 반복과 ``break`` 문법 이해하기"
   ]
  },
  {
   "cell_type": "markdown",
   "metadata": {},
   "source": [
    "조건만 맞으면 반복구문을 이용하여 쉽게 구현할 수 있는 형태가 무한하게 반복하는 무한 반복(infinite loop) 구문입니다.<br>\n",
    "이런 프로그램을 왜 만들까요?<br>\n",
    "통상 무한 반복하여 작업을 수행하다가, 특정 조건이 발생하는 경우에 반복문을 멈추거나, 아니면 사용자가 특정 입력을 주는 경우에 반복을 멈추는 경우가 일반적인 활용 예제입니다.<br>\n",
    "무한 하게 반복하는 프로그램은 어떻게 구현은 매우 쉬운데, ``while`` 문의 반복 여부를 검사하는 조건으로 ``True``주면 됩니다.<br>\n",
    "아래의 프로그램을 실제 수행하고자 한다면, 한가지 잊지 말아야 할 사항으로서, Python의 무한 반복을 중지하는 강제 키는 ``ctrl + C`` 버튼입니다.<br>\n",
    "추가로 실습을 하고 있는 ``jupyter notebook``에서는 무한 반복에 빠진 경우, 상단의 메뉴에서 ``정지``에 해당하는 검은 박스(``Run 메뉴의 오른쪽``)를 누르면 됩니다.<br>\n",
    "\n",
    "```python\n",
    "i = 0\n",
    "while True :\n",
    "    i = i + 1\n",
    "    print(i)\n",
    "```\n",
    "\n",
    "그러면 무한 반복이 실현되고 있을때, 반복 상황을 중지하고 싶다면, 어떻게 할까요?<br>\n",
    "이런 경우를 위한 문법이 ``break`` 입니다.<br>\n",
    "``while`` 반복 문장이 무한하게 실행되는 안에서, 프로그램이 특정 조건을 만족하는 하여 반복을 종료 하고 싶다면, ``break`` 구문을 실행하면 됩니다.<br>\n",
    "위의 프로그램을 수정해서, ``i``가 10에 도달하는 경우(``NEW.1``) 반복을 멈추도록(``NEW.2``) 하는 프로그램이 아래와 같습니다.<br>\n",
    "\n",
    "```python\n",
    "i = 0\n",
    "while True :\n",
    "    i = i + 1\n",
    "    print(i)\n",
    "    \n",
    "    if(i == 10): #NEW.1\n",
    "        break #NEW.2\n",
    "```\n",
    "\n",
    "위의 프로그램은 무한하게 반복하지 않으므로, 겁먹지 말고 아래의 입력창에서 직접 입력하고 실행하여 봅니다."
   ]
  },
  {
   "cell_type": "code",
   "execution_count": null,
   "metadata": {},
   "outputs": [],
   "source": []
  },
  {
   "cell_type": "markdown",
   "metadata": {},
   "source": [
    "## 조건적인 반복을 수행하는 ``continue`` 문법 이해하기"
   ]
  },
  {
   "cell_type": "markdown",
   "metadata": {},
   "source": [
    "반복문을 수행하는 경우에 발생할 수 있는 요구 사항중 또 하나는, \"특정 조건에서는 반복적인 작업을 skip 하지만, 반복은 계속 진행\"하고 싶은 경우입니다.<br>\n",
    "이런 경우에 사용하는 문장이 ``continue`` 구문입니다.<br>\n",
    "``continue`` 구문이 반복 구문 안에서 사용되면, 프로그램의 수행은 ``continue`` 구문이 포함된 반복문의 시작지점(예를들면 ``while __ :`` 지점)으로 이동합니다.<br>\n",
    "\n",
    "다음은 ``continue`` 구문을 앞서의 예제에 추가해서, ``i``가 짝수인 경우는 반복 구문을 수행하지만,<br>\n",
    "그렇지 않은 경우는 반복적으로 진행하는 작업을 하지 않고, 다음 반복을 수행하도록 합니다.<br>\n",
    "\n",
    "```python\n",
    "i = 0\n",
    "while True :\n",
    "    i = i + 1\n",
    "    \n",
    "    if i % 2 == 0:\n",
    "        print(i)\n",
    "        if(i == 100): #NEW.1\n",
    "            break #NEW.2\n",
    "    else:\n",
    "        continue\n",
    "```\n",
    "\n",
    "위의 프로그램을 아래의 입력창에서 직접 입력하고 실행하여 봅니다."
   ]
  },
  {
   "cell_type": "code",
   "execution_count": null,
   "metadata": {},
   "outputs": [],
   "source": []
  },
  {
   "cell_type": "markdown",
   "metadata": {},
   "source": [
    "## ``for`` 반복문에서의 ``break``와 ``continue`` 활용 이해하기"
   ]
  },
  {
   "cell_type": "markdown",
   "metadata": {},
   "source": [
    "``break``와 ``continue``는 ``for`` 구문을 활용한 반복문에서도 동일하게 사용할 수 있습니다.<br>\n",
    "아래는 앞서 ``while`` 구문을 이용한 무한 반복 문장과 유사한 프로그램을 ``for`` 구문을 사용하여 만든 경우입니다.<br>\n",
    "\n",
    "```python\n",
    "for i in range(1000000) :\n",
    "    i = i + 1\n",
    "    \n",
    "    if i % 2 == 0:\n",
    "        print(i)\n",
    "        if(i == 10): #NEW.1\n",
    "            break #NEW.2\n",
    "    else:\n",
    "        continue\n",
    "```\n",
    "\n",
    "위의 프로그램을 아래의 입력창에서 직접 입력하고 실행하여 봅니다."
   ]
  },
  {
   "cell_type": "code",
   "execution_count": null,
   "metadata": {},
   "outputs": [],
   "source": []
  },
  {
   "cell_type": "markdown",
   "metadata": {},
   "source": [
    "# 실습 (LAB)"
   ]
  },
  {
   "cell_type": "markdown",
   "metadata": {},
   "source": [
    "## 숫자 추측 게임 개발하기 (1)"
   ]
  },
  {
   "cell_type": "markdown",
   "metadata": {},
   "source": [
    "다음의 요구 사항에 맞는 프로그램을 개발하여 아래의 입력창을 통해서 실행합니다.<br>\n",
    "\n",
    "(a) 1에서 9 사이의 숫자(1과 9 포함) 중 하나를 랜덤하게 생성합니다.<br>\n",
    "(b) 사용자에게 숫자를 추측하여 입력하게 하고, 입력한 수가 생성된 수보다 큰지, 작은지, 같은지를 알립니다.<br>\n",
    "(c) 사용자가 생성된 수와 같은 수를 입력할 때까지 프로그램은 끝나지 않고 반복됩니다.\n",
    "\n",
    "참고로 Step.8에서 Python 언어를 활용한 난수(random number) 만들기를 언급하였습니다.<br>\n",
    "간단히 0과 10사이의 정수를 난수로 발생하려면, ``random`` 모듈을 import한 후, ``intRandom = random.randrange(0, 10)``과 같이 하면 됩니다.<br>\n",
    "자세한 설명은 < https://docs.python.org/3/library/random.html?highlight=random#module-random >를 참조합니다.<br>"
   ]
  },
  {
   "cell_type": "code",
   "execution_count": null,
   "metadata": {},
   "outputs": [],
   "source": []
  },
  {
   "cell_type": "markdown",
   "metadata": {},
   "source": [
    "## 숫자 추측 게임 개발하기 (2)"
   ]
  },
  {
   "cell_type": "markdown",
   "metadata": {},
   "source": [
    "다음의 요구 사항에 맞는 프로그램을 개발하여 아래의 입력창을 통해서 실행합니다.<br>\n",
    "\n",
    "(a) 앞서 ``숫자 추측 게임 개발하기 (1)`` 문제와 반대되는 문제입니다. <br>\n",
    "(b) 이번에는 사용자(당신)가 0에서 100 사이 숫자 중 하나를 골라 머리 속에 기억합니다. <br>\n",
    "(c) 프로그램이 그 숫자가 무엇인지 맞히도록 합니다. <br>\n",
    "(d) 프로그램이 숫자를 guess할때마다 사용자는 그 숫자가 자신이 생각한 수 보다 큰지(2), 작은지(0), 혹은 똑같은지(1) 입력합니다. <br>\n",
    "(e) 프로그램이 숫자를 맞히면 종료됩니다.<br>"
   ]
  },
  {
   "cell_type": "code",
   "execution_count": null,
   "metadata": {},
   "outputs": [],
   "source": []
  }
 ],
 "metadata": {
  "kernelspec": {
   "display_name": "Python 3",
   "language": "python",
   "name": "python3"
  },
  "language_info": {
   "codemirror_mode": {
    "name": "ipython",
    "version": 3
   },
   "file_extension": ".py",
   "mimetype": "text/x-python",
   "name": "python",
   "nbconvert_exporter": "python",
   "pygments_lexer": "ipython3",
   "version": "3.8.8"
  }
 },
 "nbformat": 4,
 "nbformat_minor": 2
}
